{
 "cells": [
  {
   "cell_type": "raw",
   "id": "192ccaaf",
   "metadata": {},
   "source": [
    "---\n",
    "title: \"BDA - Assignment 3\"\n",
    "author: Juan Maroñas Molano\n",
    "output: \n",
    "  pdf_document: \n",
    "    toc: yes\n",
    "    toc_depth: 1\n",
    "urlcolor: blue\n",
    "---"
   ]
  },
  {
   "cell_type": "markdown",
   "id": "8f38a7e2",
   "metadata": {},
   "source": [
    "# Exercise 1\n",
    "\n",
    "## a)"
   ]
  },
  {
   "cell_type": "code",
   "execution_count": 1,
   "id": "0c6775a7",
   "metadata": {},
   "outputs": [
    {
     "data": {
      "text/html": [
       "<style>\n",
       ".list-inline {list-style: none; margin:0; padding: 0}\n",
       ".list-inline>li {display: inline-block}\n",
       ".list-inline>li:not(:last-child)::after {content: \"\\00b7\"; padding: 0 .5ex}\n",
       "</style>\n",
       "<ol class=list-inline><li>13.357</li><li>14.928</li><li>14.896</li><li>15.297</li><li>14.82</li><li>12.067</li></ol>\n"
      ],
      "text/latex": [
       "\\begin{enumerate*}\n",
       "\\item 13.357\n",
       "\\item 14.928\n",
       "\\item 14.896\n",
       "\\item 15.297\n",
       "\\item 14.82\n",
       "\\item 12.067\n",
       "\\end{enumerate*}\n"
      ],
      "text/markdown": [
       "1. 13.357\n",
       "2. 14.928\n",
       "3. 14.896\n",
       "4. 15.297\n",
       "5. 14.82\n",
       "6. 12.067\n",
       "\n",
       "\n"
      ],
      "text/plain": [
       "[1] 13.357 14.928 14.896 15.297 14.820 12.067"
      ]
     },
     "metadata": {},
     "output_type": "display_data"
    }
   ],
   "source": [
    "library(aaltobda)\n",
    "data(\"windshieldy1\")\n",
    "head(windshieldy1)\n",
    "windshieldy_test <- c(13.357, 14.928, 14.896, 14.820)"
   ]
  },
  {
   "cell_type": "markdown",
   "id": "928c7ed8",
   "metadata": {},
   "source": [
    "Here we are insterested in performing inference over $\\mu$ and $\\sigma$ given a Gaussian observation model $p(y \\mid\\mu,\\sigma^2)$ and a non-informative and improper prior $p(\\mu,\\sigma) \\propto \\sigma^{-1}$. As stated in the BDA book, this prior can be obtained by making the normal inverse chi squared prior non informative, see p 67. In particular we make $\\kappa_0 \\rightarrow 0$, $\\nu_0 \\rightarrow -1$ and $\\sigma_0^2 \\rightarrow 0$ (see page 73 for an analogy in the multivariate case). With this we have\n",
    "\n",
    "Likelihood $p(y \\mid\\mu,\\sigma^2)$:\n",
    "\n",
    "$$\n",
    "p(y\\mid\\mu,\\sigma^2) = \\frac{1}{\\sqrt{2\\pi\\sigma^2}}\\exp\\left(-\\frac{1}{2\\sigma^2}(y - \\mu)^2\\right)\n",
    "$$\n",
    "\n",
    "Prior (normal inverse $\\chi^2$): \n",
    "\n",
    "$$\n",
    "p(\\mu,\\sigma^2 \\mid \\mu_0, \\sigma^2_0 / \\kappa_0, \\nu_0, \\sigma^2_0) = \\text{Inv-}\\chi^2(\\nu_0,\\sigma_0^2)\\mathcal{N}\\left(\\mu \\mid \\mu_0, \\frac{\\sigma^2}{\\kappa_0}\\right) = \\\\\n",
    "%\n",
    "% Inverse xi squared part\n",
    "\\frac{ \\left(\\frac{\\sigma_0^2\\nu_0}{2}\\right)^{\\frac{\\nu_0}{2}} }{\\Gamma\\left(\\frac{\\nu_0}{2}\\right)}\n",
    "%\n",
    "%\n",
    "\\frac{\\exp\\left(-\\frac{\\nu_0\\sigma_0^2}{(2\\sigma^2)}\\right)}{\\sigma^{2\\left(1+\\frac{\\nu_0}{2}\\right)}}\n",
    "%\n",
    "%\n",
    "% Normal part\n",
    " \\frac{\\sqrt{\\kappa_0}}{\\sqrt{2\\pi\\sigma^2}}\\exp\\left(-\\frac{\\kappa_0}{2\\sigma^2}(\\mu - \\mu_0)^2\\right) \n",
    "%\n",
    "%\n",
    "\\propto \\\\\n",
    "%\n",
    "%\n",
    "\\sigma^{.-2-\\nu_0} \\exp\\left(-\\frac{\\nu_0\\sigma_0^2}{2\\sigma^2}\\right) \n",
    "%\n",
    "\\sigma^{-1}\\exp\\left(-\\frac{\\kappa_0}{2\\sigma^2}(\\mu - \\mu_0)^2\\right) = \\\\\n",
    "%\n",
    "%\n",
    "%\n",
    "\\sigma^{-2-\\nu_0} \n",
    "%\n",
    "\\sigma^{-1}\\exp\\left(-\\frac{1}{2\\sigma^2}\\left(\\nu_0\\sigma_0^2+\\kappa_0(\\mu - \\mu_0)^2\\right)\\right)\n",
    "%\n",
    "$$\n",
    "\n",
    "which yields the result of page 67 equation 3.6.\n",
    "\n",
    "By making use of the fact that this prior is conjugate of the Gaussian likelihood we know the posterior distribution is also inverse $\\chi^2$. Thus:\n",
    "\n",
    "Posterior (normal inverse $\\chi^2$): \n",
    "\n",
    "$$\n",
    "p(\\mu,\\sigma^2 \\mid \\mu_n, \\sigma^2_n / \\kappa_n, \\nu_n, \\sigma^2_n) \\propto \\\\\n",
    "%\n",
    "%\n",
    "%\n",
    "\\sigma^{.-2-\\nu_n} \n",
    "%\n",
    "\\sigma^{-1}\\exp\\left(-\\frac{1}{2\\sigma^2}\\left(\\nu_n\\sigma_n^2+\\kappa_n(\\mu - \\mu_n)^2\\right)\\right)\n",
    "$$\n",
    "\n",
    "with ( see page 68 )\n",
    "\n",
    "$$\n",
    "\\mu_n = \\frac{\\kappa_0}{\\kappa_0+n}\\mu_0 + \\frac{n}{\\kappa_0 + n }\\hat{y}\\\\\n",
    "%\n",
    "%\n",
    "\\kappa_n = \\kappa_0 + n \\\\\n",
    "%\n",
    "%\n",
    "\\nu_n = \\nu_0 + n \\\\\n",
    "%\n",
    "%\n",
    "\\sigma^2_n = \\frac{1}{\\nu_n} \\left( \\nu_0\\sigma^2_0 + (n-1)s^2  + \\frac{\\kappa_0 n }{\\kappa_0+n}(\\hat{y} - \\mu_0)^2 \\right)\n",
    "$$\n",
    "\n",
    "given the empirical mean and the (unbiased) empirical variance:\n",
    "\n",
    "$$\n",
    "\\hat{y} = \\frac{1}{n} \\sum_n y_n \\\\\n",
    "s^2     = \\frac{1}{(n-1)} \\sum_n (y_n - \\hat{y})^2\n",
    "$$"
   ]
  },
  {
   "cell_type": "markdown",
   "id": "193574ab",
   "metadata": {},
   "source": [
    "We can know take the limits $\\kappa_0 \\rightarrow 0$ and $\\nu_0 \\rightarrow -1$ and $\\sigma_0^2 \\rightarrow 0$. In this case $\\mu_0 \\rightarrow 0$ since the prior Gaussian converges to an improper uniform distribution defined in $(-\\infty,\\infty)$. This all yields:\n",
    "\n",
    "prior:\n",
    "\n",
    "$$\n",
    "p(\\mu,\\sigma^2 \\mid \\mu_0, \\sigma^2_0 / \\kappa_0, \\nu_0, \\sigma^2_0) = \\text{Inv-}\\chi^2(\\nu_0,\\sigma_0^2)\\mathcal{N}\\left(\\mu \\mid \\mu_0, \\frac{\\sigma^2}{\\kappa_0}\\right) \n",
    "\\propto \\\\\n",
    "%\n",
    "%\n",
    "\\sigma^{.-2-\\nu_0} \n",
    "%\n",
    "\\sigma^{-1}\\exp\\left(-\\frac{1}{2\\sigma^2}\\left(0\\sigma_0^2+0(\\mu - \\mu_0)^2\\right)\\right) = \\\\\n",
    "%\n",
    "%\n",
    "\\sigma^{-2 + 1} \\sigma^{-1} = \\sigma^{-2}\n",
    "$$\n",
    "\n",
    "The parameters of the posterior are given by:\n",
    "\n",
    "$$\n",
    "\\mu_n = \\hat{y}\\\\\n",
    "%\n",
    "%\n",
    "\\kappa_n = n \\\\\n",
    "%\n",
    "%\n",
    "\\nu_n = n - 1 \\\\\n",
    "%\n",
    "%\n",
    "\\sigma^2_n = s^2 \n",
    "$$\n",
    "\n",
    "And thus the posterior:\n",
    "\n",
    "\n",
    "$$\n",
    "p(\\mu,\\sigma^2 \\mid \\mu_n, \\sigma^2_n / \\kappa_n, \\nu_n, \\sigma^2_n) \\propto \\\\\n",
    "%\n",
    "%\n",
    "%\n",
    "\\sigma^{-2-n+1} \n",
    "%\n",
    "\\sigma^{-1}\\exp\\left(-\\frac{1}{2\\sigma^2}\\left(\\nu_n\\sigma_n^2+\\kappa_n(\\mu - \\mu_n)^2\\right)\\right)=\\\\\n",
    "%\n",
    "%\n",
    "\\sigma^{-2-n}\\exp\\left(-\\frac{1}{2\\sigma^2}\\left((n-1)s^2+ n(\\mu - \\hat{y})^2\\right)\\right)\n",
    "$$\n",
    "\n",
    "matching the result in page 64.\n",
    "\n",
    "The marginal posterior $p(\\mu\\mid y)$ comes from a mixture of scaled Gaussian yielding a t-student distribution, with mean $\\hat{y}$ , scale $\\sqrt{s^2/n}$ and $n-1$ degrees of freedom.\n",
    " "
   ]
  },
  {
   "cell_type": "code",
   "execution_count": 2,
   "id": "d093b413",
   "metadata": {},
   "outputs": [],
   "source": [
    "mu_point_est <- function( data ){\n",
    "    \n",
    "    post_mu = mean(data)\n",
    "    \n",
    "    post_mu\n",
    "}"
   ]
  },
  {
   "cell_type": "code",
   "execution_count": 3,
   "id": "e9933c75",
   "metadata": {},
   "outputs": [
    {
     "data": {
      "text/html": [
       "14.6112222222222"
      ],
      "text/latex": [
       "14.6112222222222"
      ],
      "text/markdown": [
       "14.6112222222222"
      ],
      "text/plain": [
       "[1] 14.61122"
      ]
     },
     "metadata": {},
     "output_type": "display_data"
    }
   ],
   "source": [
    "## Expected value of the posterior\n",
    "\n",
    "# mu_point_est( data = windshieldy_test ) # matches the result from the report\n",
    "mu_point_est( data = windshieldy1 )"
   ]
  },
  {
   "cell_type": "code",
   "execution_count": 4,
   "id": "278f0363",
   "metadata": {},
   "outputs": [],
   "source": [
    "mu_interval <- function( data, prob ){\n",
    "    \n",
    "    n          = length(data)\n",
    "    y_hat      = mean(data)\n",
    "    s2         = 1 / ( n - 1 ) * sum( ( data - y_hat )**2 ) \n",
    "    \n",
    "    post_mu    = y_hat\n",
    "    post_scale = sqrt( s2 / n )\n",
    "    post_df    = n - 1\n",
    "    \n",
    "    inter = (1-prob) / 2\n",
    "    \n",
    "    # normalized t distribution\n",
    "    samples = rt( n = 10000, df = post_df )\n",
    "    \n",
    "    # un normalize\n",
    "    samples =  samples * post_scale + post_mu\n",
    "    \n",
    "    quantile(samples, c(0+inter,1-inter))\n",
    "}"
   ]
  },
  {
   "cell_type": "code",
   "execution_count": 5,
   "id": "4849e4be",
   "metadata": {},
   "outputs": [
    {
     "data": {
      "text/html": [
       "<style>\n",
       ".dl-inline {width: auto; margin:0; padding: 0}\n",
       ".dl-inline>dt, .dl-inline>dd {float: none; width: auto; display: inline-block}\n",
       ".dl-inline>dt::after {content: \":\\0020\"; padding-right: .5ex}\n",
       ".dl-inline>dt:not(:first-of-type) {padding-left: .5ex}\n",
       "</style><dl class=dl-inline><dt>2.5%</dt><dd>13.4777459371375</dd><dt>97.5%</dt><dd>15.7469306408284</dd></dl>\n"
      ],
      "text/latex": [
       "\\begin{description*}\n",
       "\\item[2.5\\textbackslash{}\\%] 13.4777459371375\n",
       "\\item[97.5\\textbackslash{}\\%] 15.7469306408284\n",
       "\\end{description*}\n"
      ],
      "text/markdown": [
       "2.5%\n",
       ":   13.477745937137597.5%\n",
       ":   15.7469306408284\n",
       "\n"
      ],
      "text/plain": [
       "    2.5%    97.5% \n",
       "13.47775 15.74693 "
      ]
     },
     "metadata": {},
     "output_type": "display_data"
    }
   ],
   "source": [
    "## 95% posterior interval\n",
    "# mu_interval( data = windshieldy_test, prob = 0.95 ) # matches result from report\n",
    "mu_interval( data = windshieldy1    , prob = 0.95 )"
   ]
  },
  {
   "cell_type": "code",
   "execution_count": 6,
   "id": "590f00c4",
   "metadata": {},
   "outputs": [
    {
     "data": {
      "image/png": "[encoded data removed]",
      "text/plain": [
       "plot without title"
      ]
     },
     "metadata": {
      "image/png": {
       "height": 420,
       "width": 420
      }
     },
     "output_type": "display_data"
    }
   ],
   "source": [
    "## density\n",
    "# data = windshieldy_test\n",
    "data = windshieldy1\n",
    "\n",
    "# get parameters from posterior\n",
    "n          = length(data)\n",
    "y_hat      = mean(data)\n",
    "s2         = 1 / ( n - 1 ) * sum( ( data - y_hat )**2 ) \n",
    "    \n",
    "post_mu    = y_hat\n",
    "post_scale = sqrt(s2 / n)\n",
    "post_df    = n - 1\n",
    "    \n",
    "# plot density\n",
    "x_range = seq( from = 10, to = 20, by = 0.01 )\n",
    "pdf     = dt( 1 / post_scale * ( x_range - post_mu ) / post_scale, df = post_df) # Using probability under change of variables\n",
    "\n",
    "plot(x_range, pdf, 'l')"
   ]
  },
  {
   "cell_type": "markdown",
   "id": "a6136879",
   "metadata": {},
   "source": [
    "## b)\n",
    "\n",
    "In this case the exercise asks for the posterior predictive $p(\\tilde{y} \\mid y)$ which is obtained by integrating out the likelihood under the posterior. In particular:\n",
    "\n",
    "$$\n",
    "p(\\tilde{y} \\mid y) = \\int p(\\tilde{y} \\mid \\mu,\\sigma^2) p(\\mu,\\sigma^2 | y) \\text{d}\\mu\\text{d}\\sigma^2 \n",
    "$$\n",
    "\n",
    "which is a student-t distribution with location $\\hat{y}$, scale $\\sqrt{1+\\frac{1}{n}}s$ and $n-1$ degrees of freedom. I am not making the derivations since I will probably do extra exercises and 3.9 is included there."
   ]
  },
  {
   "cell_type": "code",
   "execution_count": 7,
   "id": "9c46e630",
   "metadata": {},
   "outputs": [],
   "source": [
    "mu_pred_point_est <- function( data ){\n",
    "    \n",
    "    post_mu = mean(data)\n",
    "    \n",
    "    post_mu\n",
    "}\n"
   ]
  },
  {
   "cell_type": "code",
   "execution_count": 8,
   "id": "cb064878",
   "metadata": {},
   "outputs": [
    {
     "data": {
      "text/html": [
       "14.6112222222222"
      ],
      "text/latex": [
       "14.6112222222222"
      ],
      "text/markdown": [
       "14.6112222222222"
      ],
      "text/plain": [
       "[1] 14.61122"
      ]
     },
     "metadata": {},
     "output_type": "display_data"
    }
   ],
   "source": [
    "# mu_pred_point_est(data = windshieldy_test )\n",
    "mu_pred_point_est( data = windshieldy1 )"
   ]
  },
  {
   "cell_type": "code",
   "execution_count": 9,
   "id": "c55a6e60",
   "metadata": {},
   "outputs": [],
   "source": [
    "mu_pred_interval <- function( data, prob ){\n",
    "    \n",
    "    n          = length(data)\n",
    "    y_hat      = mean(data)\n",
    "    s2         = 1 / ( n - 1 ) * sum( ( data - y_hat )**2 ) \n",
    "    \n",
    "    post_mu    = y_hat\n",
    "    post_scale = sqrt( s2 + s2 / n )\n",
    "    post_df    = n - 1\n",
    "    \n",
    "    inter = (1-prob) / 2\n",
    "    \n",
    "    # normalized t distribution\n",
    "    samples = rt( n = 10000, df = post_df )\n",
    "    \n",
    "    # un normalize\n",
    "    samples =  samples * post_scale + post_mu\n",
    "    \n",
    "    quantile(samples, c(0+inter,1-inter))\n",
    "}"
   ]
  },
  {
   "cell_type": "code",
   "execution_count": 10,
   "id": "6826a814",
   "metadata": {},
   "outputs": [
    {
     "data": {
      "text/html": [
       "<style>\n",
       ".dl-inline {width: auto; margin:0; padding: 0}\n",
       ".dl-inline>dt, .dl-inline>dd {float: none; width: auto; display: inline-block}\n",
       ".dl-inline>dt::after {content: \":\\0020\"; padding-right: .5ex}\n",
       ".dl-inline>dt:not(:first-of-type) {padding-left: .5ex}\n",
       "</style><dl class=dl-inline><dt>2.5%</dt><dd>10.9950543533579</dd><dt>97.5%</dt><dd>18.183732752906</dd></dl>\n"
      ],
      "text/latex": [
       "\\begin{description*}\n",
       "\\item[2.5\\textbackslash{}\\%] 10.9950543533579\n",
       "\\item[97.5\\textbackslash{}\\%] 18.183732752906\n",
       "\\end{description*}\n"
      ],
      "text/markdown": [
       "2.5%\n",
       ":   10.995054353357997.5%\n",
       ":   18.183732752906\n",
       "\n"
      ],
      "text/plain": [
       "    2.5%    97.5% \n",
       "10.99505 18.18373 "
      ]
     },
     "metadata": {},
     "output_type": "display_data"
    }
   ],
   "source": [
    "# mu_pred_interval( data = windshieldy_test, prob = 0.95 )\n",
    "mu_pred_interval( data = windshieldy1    , prob = 0.95 )"
   ]
  },
  {
   "cell_type": "code",
   "execution_count": 11,
   "id": "dac1d103",
   "metadata": {},
   "outputs": [
    {
     "data": {
      "image/png": "[encoded data removed]",
      "text/plain": [
       "plot without title"
      ]
     },
     "metadata": {
      "image/png": {
       "height": 420,
       "width": 420
      }
     },
     "output_type": "display_data"
    }
   ],
   "source": [
    "## density\n",
    "# data = windshieldy_test\n",
    "data = windshieldy1\n",
    "\n",
    "# get parameters from posterior\n",
    "n          = length(data)\n",
    "y_hat      = mean(data)\n",
    "s2         = 1 / ( n - 1 ) * sum( ( data - y_hat )**2 ) \n",
    "    \n",
    "post_mu    = y_hat\n",
    "post_scale = sqrt( s2 + s2 / n)\n",
    "post_df    = n - 1\n",
    "    \n",
    "# plot density\n",
    "x_range = seq( from = 5, to = 25, by = 0.01 )\n",
    "pdf     = dt( 1 / post_scale * ( x_range - post_mu ) / post_scale, df = post_df) # Using probability under change of variables\n",
    "\n",
    "plot(x_range, pdf, 'l') # is more heavy tailed than the posterior over just mu since we have considered\n",
    "                        # the uncertainty in the mean.\n",
    "    \n",
    "post_scale = sqrt( s2 / n)\n",
    "pdf_post   = dt( 1 / post_scale * ( x_range - post_mu ) / post_scale, df = post_df) # Using probability under change of variables\n",
    "\n",
    "lines(x_range , pdf_post, type = 'l', col = 'blue')\n",
    "\n",
    "legend( x = 'topright', legend = c(\"pos predictive\", \"pos mean\"), col = c(\"black\", \"blue\"), lty = 1, cex = 1.5 )"
   ]
  },
  {
   "cell_type": "markdown",
   "id": "a3f592da",
   "metadata": {},
   "source": [
    "# Exercise 2\n",
    "\n",
    "This exercise is the example of a joint Binomial distribution where the outputs are independent. In particular $k_0$ represents the number of patients that died under the control treatment with size $n_0$, while $k_1$ is the number of patients that died under the treatment with $n_1$ patients. \n",
    "\n",
    "The joint likelihood distribution is given by:\n",
    "\n",
    "$$\n",
    "y_0 , y_1 \\sim p(y_0,y_1\\mid p_0,p_1) \\propto p_0^{k_0}(1-p_0)^{n_0 - k_0 }p_1^{k_1}(1-p_1)^{n_1 - k_1 }\n",
    "$$\n",
    "\n",
    "The conjugate prior of the Binomial distribution is the Beta distribution. Again we use independent Beta distribution over $p_0$ and $p_1$ with hyperparameters $\\alpha_0,\\beta_0$ and $\\alpha_1,\\beta_1$. \n",
    "\n",
    "$$\n",
    "p(p_0,p_1\\mid \\alpha_0,\\beta_0,\\alpha_1,\\beta_1) \\propto p_0^{\\alpha_0-1}(1-p_0)^{\\beta_0-1}p_1^{\\alpha_1-1}(1-p_1)^{\\beta_1-1}\n",
    "$$\n",
    "\n",
    "The beta prior can be made improper by setting $\\alpha = 0 , \\beta=0$. However since this prior only affects the range $[0,1]$ I prefer making it uniform on this range. This is obtained by setting $\\alpha = 1 , \\beta=1$. In this case we see that $p(p_0,p_1\\mid \\alpha_0,\\beta_0,\\alpha_1,\\beta_1) \\propto 1$, as desired. \n",
    "\n",
    "The posterior distribution is obtained by mixing apples with apples and pears with pears. In particular:\n",
    "\n",
    "$$\n",
    "p( p_0,p_1 \\mid y_0,y_1) \\propto p_0^{k_0 + \\alpha_0 - 1}(1-p_0)^{n_0 - k_0 + \\beta_0 - 1 }p_1^{k_1 + \\alpha_1 -1 }(1-p_1)^{n_1 - k_1 + \\beta_1 - 1}\n",
    "$$\n",
    "\n",
    "which obviously inherits the independence from the prior and likelihood. \n",
    "\n",
    "\n",
    "The posterior distribution for the odds ratio can be obtained by sampling from the posterior and then performing the ration on each sample. I like to see this using LOTUS rule. This rule basically say that if we transform a sam,ple from a random variable with a function $g(\\cdot)$ then there is no need to obtain the distribution induced by $g(\\cdot)$ in order to take expectations or any other summary statistics. We can just take expectations over the base density applying the function. If we wish to sample then we just have to sample from the base density and apply the transformation. For our particular case this means, for example for the mean:\n",
    "\n",
    "$$\n",
    "z = g(p_0,p_1) = \\frac{\\frac{p_1}{1-p_1}}{\\frac{p_0}{1-p_0}}\n",
    "$$\n",
    "\n",
    "then:\n",
    "\n",
    "$$\n",
    "\\int z  p( g(p_0,p_1) ) \\text{d} z = \\int g(p_0,p_1)  p(p_0,p_1 | y ) \\text{d}p_0\\text{d}p_1 \\approx \\frac{1}{S}\\sum_s g(p_0^{(s)}p_1^{(s)}) ;  p_0^{(s)}p_1^{(s)} \\sim p(p_0,p_1 | y )\n",
    "$$\n",
    "\n",
    "\n"
   ]
  },
  {
   "cell_type": "code",
   "execution_count": 12,
   "id": "17e0f405",
   "metadata": {},
   "outputs": [],
   "source": [
    "# Prior parameters\n",
    "prior_alfa_0 = 1\n",
    "prior_beta_0 = 1\n",
    "\n",
    "prior_alfa_1 = 1\n",
    "prior_beta_1 = 1\n",
    "\n",
    "# Likelihood parametesr\n",
    "n_0 = 674\n",
    "k_0 = 39\n",
    "\n",
    "n_1 = 680\n",
    "k_1 = 22\n",
    "\n",
    "# Posterior parameters\n",
    "pos_alfa_0 = k_0 + prior_alfa_0\n",
    "pos_beta_0 = n_0 - k_0 + prior_beta_0\n",
    "\n",
    "pos_alfa_1 = k_1 + prior_alfa_1\n",
    "pos_beta_1 = n_1 - k_1 + prior_beta_1"
   ]
  },
  {
   "cell_type": "code",
   "execution_count": 13,
   "id": "fcf748d4",
   "metadata": {},
   "outputs": [],
   "source": [
    "# Draw samples from the posterior\n",
    "p0 <- rbeta( 1000000, pos_alfa_0, pos_beta_0 ) \n",
    "p1 <- rbeta( 1000000, pos_alfa_1, pos_beta_1 ) "
   ]
  },
  {
   "cell_type": "code",
   "execution_count": 14,
   "id": "8c32d139",
   "metadata": {},
   "outputs": [],
   "source": [
    "## odds ratio computation\n",
    "odds_ratio <- function(x,y){\n",
    "    \n",
    "    ( x / ( 1 - x ) ) / ( y / ( 1 - y ) )\n",
    "}\n",
    "\n",
    "## expected value of the posterior odds ratio\n",
    "posterior_odds_ratio_point_est <- function( p0, p1 ){\n",
    "    \n",
    "    sample_odds_ratio <- odds_ratio( p1, p0 )\n",
    "\n",
    "    mean(sample_odds_ratio)\n",
    "}\n",
    "\n",
    "## posterior intervals of odds ratio\n",
    "posterior_odds_ratio_interval <- function( p0, p1, prob ){\n",
    "    \n",
    "    sample_odds_ratio <- odds_ratio( p1, p0 )\n",
    "    \n",
    "    inter = (1 - prob) / 2\n",
    "    \n",
    "    quantile( sample_odds_ratio, c(0+inter,1-inter) )\n",
    "}"
   ]
  },
  {
   "cell_type": "code",
   "execution_count": 15,
   "id": "e2ccd470",
   "metadata": {},
   "outputs": [
    {
     "data": {
      "text/html": [
       "0.569992640150546"
      ],
      "text/latex": [
       "0.569992640150546"
      ],
      "text/markdown": [
       "0.569992640150546"
      ],
      "text/plain": [
       "[1] 0.5699926"
      ]
     },
     "metadata": {},
     "output_type": "display_data"
    }
   ],
   "source": [
    "posterior_odds_ratio_point_est( p0 = p0, p1 = p1 )"
   ]
  },
  {
   "cell_type": "code",
   "execution_count": 16,
   "id": "b2ddc766",
   "metadata": {},
   "outputs": [
    {
     "data": {
      "text/html": [
       "<style>\n",
       ".dl-inline {width: auto; margin:0; padding: 0}\n",
       ".dl-inline>dt, .dl-inline>dd {float: none; width: auto; display: inline-block}\n",
       ".dl-inline>dt::after {content: \":\\0020\"; padding-right: .5ex}\n",
       ".dl-inline>dt:not(:first-of-type) {padding-left: .5ex}\n",
       "</style><dl class=dl-inline><dt>5%</dt><dd>0.350803931235173</dd><dt>95%</dt><dd>0.852183589914629</dd></dl>\n"
      ],
      "text/latex": [
       "\\begin{description*}\n",
       "\\item[5\\textbackslash{}\\%] 0.350803931235173\n",
       "\\item[95\\textbackslash{}\\%] 0.852183589914629\n",
       "\\end{description*}\n"
      ],
      "text/markdown": [
       "5%\n",
       ":   0.35080393123517395%\n",
       ":   0.852183589914629\n",
       "\n"
      ],
      "text/plain": [
       "       5%       95% \n",
       "0.3508039 0.8521836 "
      ]
     },
     "metadata": {},
     "output_type": "display_data"
    }
   ],
   "source": [
    "posterior_odds_ratio_interval( p0 = p0, p1 = p1, prob = 0.9 )"
   ]
  },
  {
   "cell_type": "code",
   "execution_count": 17,
   "id": "389a7b7e",
   "metadata": {},
   "outputs": [
    {
     "data": {
      "image/png": "[encoded data removed]",
      "text/plain": [
       "Plot with title “Histogram of sample_odds_ratio”"
      ]
     },
     "metadata": {
      "image/png": {
       "height": 420,
       "width": 420
      }
     },
     "output_type": "display_data"
    }
   ],
   "source": [
    "## Histogram\n",
    "sample_odds_ratio <- odds_ratio( p1, p0 )\n",
    "\n",
    "hist( sample_odds_ratio, freq = FALSE )"
   ]
  },
  {
   "cell_type": "markdown",
   "id": "182b4244",
   "metadata": {},
   "source": [
    "The posterior odds ratio is given by $0.57$, we can be certain about this value since the posterior is tight around it, as given by its posterior $95$% credible interval $[0.35, 0.85]$. We can be mostly totally certain that the $p_0$ odd ratio is greater than $p_1$ odds ratio since values are below $1$ in the $95$% posterior interval. We can gain insight by looking at the posterior (see next section) where we see that the posterior of $p_0$ has greater values."
   ]
  },
  {
   "cell_type": "markdown",
   "id": "4b470a55",
   "metadata": {},
   "source": [
    "## b)\n",
    "\n",
    "I'll draw prior and posterior pdfs to discuss the choice of the prior."
   ]
  },
  {
   "cell_type": "code",
   "execution_count": 18,
   "id": "50e378be",
   "metadata": {},
   "outputs": [
    {
     "data": {
      "image/png": "[encoded data removed]",
      "text/plain": [
       "plot without title"
      ]
     },
     "metadata": {
      "image/png": {
       "height": 420,
       "width": 420
      }
     },
     "output_type": "display_data"
    }
   ],
   "source": [
    "p_range    = seq( from = -0.01, to = 1.01, by = 0.001 ) # since beta is defined on 0-1\n",
    "\n",
    "prior_beta_pdf_0 = dbeta( p_range , prior_alfa_0, prior_beta_0 )  \n",
    "pos_beta_pdf_0   = dbeta( p_range , pos_alfa_0  , pos_beta_0 )  \n",
    "pos_beta_pdf_1   = dbeta( p_range , pos_alfa_1  , pos_beta_1 )  \n",
    "\n",
    "\n",
    "plot( p_range, pos_beta_pdf_0, type = 'l')\n",
    "lines( p_range , pos_beta_pdf_1, type = 'l', col = 'blue')\n",
    "lines( p_range , prior_beta_pdf_0, type = 'l', col = 'red')\n",
    "\n",
    "# Add a legend\n",
    "legend( x = 'topright', legend = c(\"posterior p0\", \"posterior p1\", \"prior\"), col = c(\"black\", \"blue\", \"red\"), lty = 1, cex = 1.5 )\n"
   ]
  },
  {
   "cell_type": "code",
   "execution_count": 19,
   "id": "d44cd983",
   "metadata": {},
   "outputs": [],
   "source": [
    "## Check a totally misspecified prior (place probability around 1.0)\n",
    "\n",
    "# Prior parameters\n",
    "prior_alfa_0 = 10\n",
    "prior_beta_0 = 1\n",
    "\n",
    "prior_alfa_1 = 10\n",
    "prior_beta_1 = 1\n",
    "\n",
    "# Likelihood parametesr\n",
    "n_0 = 674\n",
    "k_0 = 39\n",
    "\n",
    "n_1 = 680\n",
    "k_1 = 22\n",
    "\n",
    "# Posterior parameters\n",
    "pos_alfa_0 = k_0 + prior_alfa_0\n",
    "pos_beta_0 = n_0 - k_0 + prior_beta_0\n",
    "\n",
    "pos_alfa_1 = k_1 + prior_alfa_1\n",
    "pos_beta_1 = n_1 - k_1 + prior_beta_1\n"
   ]
  },
  {
   "cell_type": "code",
   "execution_count": 20,
   "id": "98e4ef15",
   "metadata": {},
   "outputs": [],
   "source": [
    "# Draw samples from the posterior\n",
    "p0 <- rbeta( 1000000, pos_alfa_0, pos_beta_0 ) \n",
    "p1 <- rbeta( 1000000, pos_alfa_1, pos_beta_1 ) "
   ]
  },
  {
   "cell_type": "code",
   "execution_count": 21,
   "id": "a9cde10d",
   "metadata": {},
   "outputs": [
    {
     "data": {
      "text/html": [
       "0.644484106995355"
      ],
      "text/latex": [
       "0.644484106995355"
      ],
      "text/markdown": [
       "0.644484106995355"
      ],
      "text/plain": [
       "[1] 0.6444841"
      ]
     },
     "metadata": {},
     "output_type": "display_data"
    }
   ],
   "source": [
    "posterior_odds_ratio_point_est( p0 = p0, p1 = p1 )"
   ]
  },
  {
   "cell_type": "code",
   "execution_count": 22,
   "id": "441f425d",
   "metadata": {},
   "outputs": [
    {
     "data": {
      "text/html": [
       "<style>\n",
       ".dl-inline {width: auto; margin:0; padding: 0}\n",
       ".dl-inline>dt, .dl-inline>dd {float: none; width: auto; display: inline-block}\n",
       ".dl-inline>dt::after {content: \":\\0020\"; padding-right: .5ex}\n",
       ".dl-inline>dt:not(:first-of-type) {padding-left: .5ex}\n",
       "</style><dl class=dl-inline><dt>5%</dt><dd>0.424411413571785</dd><dt>95%</dt><dd>0.920828553041835</dd></dl>\n"
      ],
      "text/latex": [
       "\\begin{description*}\n",
       "\\item[5\\textbackslash{}\\%] 0.424411413571785\n",
       "\\item[95\\textbackslash{}\\%] 0.920828553041835\n",
       "\\end{description*}\n"
      ],
      "text/markdown": [
       "5%\n",
       ":   0.42441141357178595%\n",
       ":   0.920828553041835\n",
       "\n"
      ],
      "text/plain": [
       "       5%       95% \n",
       "0.4244114 0.9208286 "
      ]
     },
     "metadata": {},
     "output_type": "display_data"
    }
   ],
   "source": [
    "posterior_odds_ratio_interval( p0 = p0, p1 = p1, prob = 0.9 )"
   ]
  },
  {
   "cell_type": "code",
   "execution_count": 23,
   "id": "ff0696af",
   "metadata": {},
   "outputs": [
    {
     "data": {
      "image/png": "[encoded data removed]",
      "text/plain": [
       "Plot with title “Histogram of sample_odds_ratio”"
      ]
     },
     "metadata": {
      "image/png": {
       "height": 420,
       "width": 420
      }
     },
     "output_type": "display_data"
    }
   ],
   "source": [
    "sample_odds_ratio <- odds_ratio( p1, p0 )\n",
    "\n",
    "hist( sample_odds_ratio, freq = FALSE )"
   ]
  },
  {
   "cell_type": "code",
   "execution_count": 24,
   "id": "8f617a35",
   "metadata": {},
   "outputs": [
    {
     "data": {
      "image/png": "[encoded data removed]",
      "text/plain": [
       "plot without title"
      ]
     },
     "metadata": {
      "image/png": {
       "height": 420,
       "width": 420
      }
     },
     "output_type": "display_data"
    }
   ],
   "source": [
    "p_range    = seq( from = -0.01, to = 1.01, by = 0.001 ) # since beta is defined on 0-1\n",
    "\n",
    "prior_beta_pdf_0 = dbeta( p_range , prior_alfa_0, prior_beta_0 )  \n",
    "pos_beta_pdf_0   = dbeta( p_range , pos_alfa_0  , pos_beta_0 )  \n",
    "pos_beta_pdf_1   = dbeta( p_range , pos_alfa_1  , pos_beta_1 )  \n",
    "\n",
    "\n",
    "plot( p_range, pos_beta_pdf_0, type = 'l')\n",
    "lines( p_range , pos_beta_pdf_1, type = 'l', col = 'blue')\n",
    "lines( p_range , prior_beta_pdf_0, type = 'l', col = 'red')\n",
    "\n",
    "# Add a legend\n",
    "legend( x = 'topright', legend = c(\"posterior p0\", \"posterior p1\", \"prior\"), col = c(\"black\", \"blue\", \"red\"), lty = 1, cex = 1.5 )\n"
   ]
  },
  {
   "cell_type": "markdown",
   "id": "cac5174c",
   "metadata": {},
   "source": [
    "The posterior looks very peaked and narrow. Provided we have a non-informative prior this somehow tells that the posterior quickly concentrates around the maximum likelihood value. This is because we have enough data for this particular problem. \n",
    "\n",
    "We can take a look at a totally misspecified prior ( $\\alpha=10$ $\\beta=1$). In this case we can see that the credible interval and the posterior mean is biased towards the prior, but we can still be certain that the $p_0$odd ratio is greater than $p_1$ odds ratio since values are below $1$. Obviously a misspecified prior will incorrectly bias posterior inferences. However for this particular problem the best choice is a non-informative prior because I don't have background knowledge about where the conditions of the patients groups to set this prior. For example nobody tells me that the control group do not have smookers/non-smookers etc."
   ]
  },
  {
   "cell_type": "markdown",
   "id": "0f104321",
   "metadata": {},
   "source": [
    "# Exercise 3"
   ]
  },
  {
   "cell_type": "code",
   "execution_count": 25,
   "id": "33ae0d87",
   "metadata": {},
   "outputs": [],
   "source": [
    "data(\"windshieldy1\")\n",
    "data(\"windshieldy2\")"
   ]
  },
  {
   "cell_type": "markdown",
   "id": "3c825544",
   "metadata": {},
   "source": [
    "In this case we have something similar to exercise 2 but in this case our data is continuous and thus we use a continuous likelihood, which in this case will be Gaussian. Since we assume independence:\n",
    "\n",
    "$$\n",
    "y_1,y_2 \\sim p(y_1,y_2 \\mid \\mu_1, \\mu_2, \\sigma^2_1, \\sigma^2_2 ) \\propto\n",
    "\\sigma^{-1}_1 \\sigma^{-1}_2 \\exp\\left(-\\frac{1}{2\\sigma^2_1}(y_1 - \\mu_1)^2\\right)\\exp\\left(-\\frac{1}{2\\sigma^2_2}(y_2 - \\mu_2)^2\\right) \n",
    "$$\n",
    "\n",
    "Since the variance is unkown the prior distribution is chosen to be conjungate and thus is a normal-inverse $\\chi^2$ distribution. We assume independence in the prior as well. Thus:\n",
    "\n",
    "\n",
    "$$\n",
    "\\mu_1, \\sigma_1^2, \\mu_2, \\sigma_2^2  \\sim p(\\mu_1,\\sigma_1^2 \\mid m_1, q^2_1 / k_1, v_1, q^2_1) p(\\mu_2,\\sigma_2^2 \\mid m_2, q^2_2 / k_2, n_2, q^2_2) \n",
    "$$\n",
    "\n",
    "we know make the prior non-informative (and improper) by taking the limits $k_i \\rightarrow 0$ and $v_i \\rightarrow -1$ and $q_i^2 \\rightarrow 0$, yielding:\n",
    "\n",
    "$$\n",
    "\\mu_1, \\sigma_1^2, \\mu_2, \\sigma_2^2  \\sim p(\\mu_1,\\sigma_1^2 \\mid m_1, q^2_1 / k_1, v_1, q^2_1) p(\\mu_2,\\sigma_2^2 \\mid m_2, q^2_2 / k_2, n_2, q^2_2)  \\propto \\sigma_1^2 \\sigma_2^2 \n",
    "$$\n",
    "\n",
    "The posterior distribution given the data is however a proper normal inverse $\\chi^2$ distribution given by:\n",
    "\n",
    "$$\n",
    "p(\\mu_1,\\sigma_1^2 \\mid m_{n1}, q^2_{n_1} / k_{n_1}, v_{n_1}, q^2_{n_1}) p(\\mu_2,\\sigma_2^2 \\mid m_{n_2}, q^2_{n_2} / k_{n_2}, v_{n_2}, q^2_{n_2}) \\propto \\\\\n",
    "\\sigma_1^{-2-n_1}\\exp\\left(-\\frac{1}{2\\sigma_1^2}\\left((n_1-1)s_1^2+ n_1(\\mu_1 - \\hat{y_1})^2\\right)\\right)\n",
    "\\sigma_2^{-2-n_2}\\exp\\left(-\\frac{1}{2\\sigma_2^2}\\left((n_2-1)s_2^2+ n_2(\\mu_2 - \\hat{y_2})^2\\right)\\right)\n",
    "$$\n",
    "\n",
    "\n",
    "with:\n",
    "\n",
    "$$\n",
    "m_{n_i} = \\hat{y_i}\\\\\n",
    "%\n",
    "%\n",
    "k_{n_i} = n_i \\\\\n",
    "%\n",
    "%\n",
    "v_{n_i} = n_i - 1 \\\\\n",
    "%\n",
    "%\n",
    "q^2_{n_i} = s_i^2 \n",
    "$$\n",
    "\n",
    "$$\n",
    "%\n",
    "%\n",
    "\\hat{y_i} = \\frac{1}{n_i} \\sum_n y_{ni} \\\\\n",
    "s^2_i       =  \\frac{1}{n_i-1} \\sum_n \\left(y_{ni} - \\hat{y_i} \\right)^2\n",
    "%\n",
    "%\n",
    "$$\n",
    "\n",
    "The exercise again asks for inference about the mean $\\mu_i$. Since the variance is unknown we must integrate it out from the posterior. For reasons already explained the marginal posterior $p(\\mu_1,\\mu_2\\mid y_1,y_2)= p(\\mu_1|y_1)p(\\mu_2|y_2)$ is the product of two student-t distributions, with parameters mean $\\hat{y_i}$, scale $\\sqrt{s_i^2/n_i}$ and $n_i-1$ degrees of freedom (these are not derived directly since I will probably do exercise 3.9)"
   ]
  },
  {
   "cell_type": "markdown",
   "id": "e7437bf9",
   "metadata": {},
   "source": [
    "## a) "
   ]
  },
  {
   "cell_type": "code",
   "execution_count": 26,
   "id": "69173468",
   "metadata": {},
   "outputs": [],
   "source": [
    "posterior_marginal_mean_params <- function( data ){\n",
    "    \n",
    "    n     = length(data)\n",
    "    y_hat = mean(data)\n",
    "    s2    = 1 / ( n - 1 ) * sum( ( data - y_hat )**2 )   \n",
    "    \n",
    "    c( pos_mean = y_hat, pos_scale = sqrt( s2 / n ), pos_df = n - 1 ) \n",
    "    \n",
    "}"
   ]
  },
  {
   "cell_type": "code",
   "execution_count": 27,
   "id": "abb2c7e8",
   "metadata": {},
   "outputs": [
    {
     "name": "stdout",
     "output_type": "stream",
     "text": [
      " pos_mean \n",
      "-1.209855 \n"
     ]
    }
   ],
   "source": [
    "## posterior mean diference\n",
    "pos_params_1 = posterior_marginal_mean_params( data = windshieldy1 )\n",
    "pos_params_2 = posterior_marginal_mean_params( data = windshieldy2 )\n",
    "\n",
    "pos_mu_1     = pos_params_1['pos_mean']\n",
    "pos_mu_2     = pos_params_2['pos_mean']\n",
    "\n",
    "pos_mu_diff        = pos_mu_1 - pos_mu_2  \n",
    "\n",
    "print(pos_mu_diff)"
   ]
  },
  {
   "cell_type": "code",
   "execution_count": 28,
   "id": "1cbd187e",
   "metadata": {},
   "outputs": [
    {
     "name": "stdout",
     "output_type": "stream",
     "text": [
      "       2.5%       97.5% \n",
      "-2.45601198  0.06107158 \n"
     ]
    }
   ],
   "source": [
    "## posterior mean diference credible intervals\n",
    "\n",
    "pos_mu_1     = pos_params_1['pos_mean']\n",
    "pos_mu_2     = pos_params_2['pos_mean']\n",
    "\n",
    "pos_scale_1  = pos_params_1['pos_scale']\n",
    "pos_scale_2  = pos_params_2['pos_scale']\n",
    "\n",
    "pos_df_1     = pos_params_1['pos_df']\n",
    "pos_df_2     = pos_params_2['pos_df']\n",
    "\n",
    "# normalized t distribution\n",
    "samples_1 = rt( n = 10000, df = pos_df_1 )\n",
    "samples_2 = rt( n = 10000, df = pos_df_2 )\n",
    "    \n",
    "# un normalize\n",
    "samples_1 = samples_1 * pos_scale_1 + pos_mu_1\n",
    "samples_2 = samples_2 * pos_scale_2 + pos_mu_2    \n",
    "\n",
    "# compute the diference\n",
    "samples_diff = samples_1 - samples_2\n",
    "\n",
    "inter = (1-0.95) / 2\n",
    "q_95  = quantile( samples_diff, c(0+inter,1-inter) )\n",
    "print(q_95)"
   ]
  },
  {
   "cell_type": "code",
   "execution_count": 29,
   "id": "59ee1a92",
   "metadata": {},
   "outputs": [
    {
     "data": {
      "image/png": "[encoded data removed]",
      "text/plain": [
       "Plot with title “Histogram of samples_diff”"
      ]
     },
     "metadata": {
      "image/png": {
       "height": 420,
       "width": 420
      }
     },
     "output_type": "display_data"
    }
   ],
   "source": [
    "## Plot histogram\n",
    "hist(samples_diff , freq = FALSE  )"
   ]
  },
  {
   "cell_type": "code",
   "execution_count": 30,
   "id": "e5d2c666",
   "metadata": {},
   "outputs": [
    {
     "name": "stdout",
     "output_type": "stream",
     "text": [
      "[1] 0.0301\n"
     ]
    }
   ],
   "source": [
    "## additionaly compute probability that w1 is better than w2.\n",
    "tot_samples = length(samples_diff)\n",
    "\n",
    "P_w1_hard_w2 = 1 - sum(samples_diff < 0) / tot_samples\n",
    "\n",
    "print(P_w1_hard_w2)"
   ]
  },
  {
   "cell_type": "markdown",
   "id": "ed52f46d",
   "metadata": {},
   "source": [
    "The mean difference between the hardness of windshields $1$ vs windshields $2$ is $-1.21$ with a $95%$ credible invertval lying in the range $[-2.47,  0.021]$. Thus, with high probability we can say that w2 is a harder than w1. \n",
    "\n",
    "Actually, the probability that w1 is harder than w2 is just $2.7$, which is very low. In other words $97.3%$ of time w2 will be harder than w1. "
   ]
  },
  {
   "cell_type": "markdown",
   "id": "61ddf6f5",
   "metadata": {},
   "source": [
    "## b)\n",
    "\n",
    "Since it is a density the probability of being exactly equal is $0$. This is because a density assigns a $1.0$ probability between infinitely many possibilities ( the continuous range ). However for completeness we can infer a bit about the probability of the difference by taking a number $\\epsilon$ and compute $P(\\mu_d - \\epsilon \\leq\\mu_d < \\mu_d + \\epsilon)$.\n",
    "\n",
    "This can be done by first computing $P(X < \\mu_d + \\epsilon)$ and $P(X < \\mu_d - \\epsilon)$ with $\\mu_d = 0$ and then taking the difference. The computation is performed numerically by taking the proportion of values below $\\mu_d \\pm \\epsilon$."
   ]
  },
  {
   "cell_type": "code",
   "execution_count": 31,
   "id": "d05fc7b2",
   "metadata": {},
   "outputs": [
    {
     "name": "stdout",
     "output_type": "stream",
     "text": [
      "[1] 0.0017\n"
     ]
    }
   ],
   "source": [
    "eps = 0.01 # make this number arbitrary small and you will see the probability is zero\n",
    "\n",
    "tot_samples = length(samples_diff)\n",
    "\n",
    "P_x_leq_eps = sum(samples_diff < - eps) / tot_samples\n",
    "P_x_ge_eps  = sum(samples_diff < eps) / tot_samples\n",
    "\n",
    "target_prob = P_x_ge_eps - P_x_leq_eps\n",
    "\n",
    "print(target_prob)"
   ]
  },
  {
   "cell_type": "markdown",
   "id": "f944cb4d",
   "metadata": {},
   "source": [
    "## On Frank Harrell's recommendations\n",
    "\n",
    "I don't find his notes very usefull because I don't understand where the numbers come from so I am going to try and replicate it here.\n",
    "\n",
    "He says that the prior over the difference SBP between and B and A (B-A) is Gaussian with mean 0 and standard deviation such that this difference exceeds $10$ mmHg with probability 0.05.\n",
    "\n",
    "A is the control treatment and B is the new treatment. The treatment effect is summarized as the difference in Systolic bloood pressure between the means of A and B.\n",
    "\n",
    "Under these conditions the prior standard deviation is 5. This is because for a Gaussian de 95% mass is twice the standard deviation. Thus if 95% should not exceed $10$ mmHg then $5$ is the std."
   ]
  },
  {
   "cell_type": "code",
   "execution_count": 32,
   "id": "6e1a5d3e",
   "metadata": {},
   "outputs": [],
   "source": [
    "prior_mu  = 0.0\n",
    "prior_std = 5 \n",
    "\n",
    "mmhg_range = seq( from = -20, to = 20, by = 0.01 )\n",
    "norm_pdf   = dnorm( mmhg_range, mean = prior_mu, sd = prior_std )"
   ]
  },
  {
   "cell_type": "code",
   "execution_count": 33,
   "id": "44a0f160",
   "metadata": {},
   "outputs": [
    {
     "data": {
      "image/png": "[encoded data removed]",
      "text/plain": [
       "plot without title"
      ]
     },
     "metadata": {
      "image/png": {
       "height": 420,
       "width": 420
      }
     },
     "output_type": "display_data"
    }
   ],
   "source": [
    "plot( mmhg_range, norm_pdf )"
   ]
  },
  {
   "cell_type": "code",
   "execution_count": 34,
   "id": "6d414953",
   "metadata": {},
   "outputs": [
    {
     "data": {
      "text/html": [
       "<style>\n",
       ".dl-inline {width: auto; margin:0; padding: 0}\n",
       ".dl-inline>dt, .dl-inline>dd {float: none; width: auto; display: inline-block}\n",
       ".dl-inline>dt::after {content: \":\\0020\"; padding-right: .5ex}\n",
       ".dl-inline>dt:not(:first-of-type) {padding-left: .5ex}\n",
       "</style><dl class=dl-inline><dt>2.5%</dt><dd>-9.7468090680146</dd><dt>97.5%</dt><dd>9.7940182515241</dd></dl>\n"
      ],
      "text/latex": [
       "\\begin{description*}\n",
       "\\item[2.5\\textbackslash{}\\%] -9.7468090680146\n",
       "\\item[97.5\\textbackslash{}\\%] 9.7940182515241\n",
       "\\end{description*}\n"
      ],
      "text/markdown": [
       "2.5%\n",
       ":   -9.746809068014697.5%\n",
       ":   9.7940182515241\n",
       "\n"
      ],
      "text/plain": [
       "     2.5%     97.5% \n",
       "-9.746809  9.794018 "
      ]
     },
     "metadata": {},
     "output_type": "display_data"
    }
   ],
   "source": [
    "# check 95% credible interval so that I was on the right\n",
    "samples = rnorm( 100000, mean = prior_mu, sd = prior_std )\n",
    "\n",
    "inter = (1-0.95)/2\n",
    "\n",
    "quantile( samples, c(0+inter,1-inter) ) # we see it is in +- 10 as expected."
   ]
  },
  {
   "cell_type": "markdown",
   "id": "c67c7e38",
   "metadata": {},
   "source": [
    "I don't find where his first statement comes from. Basically he says that the probability that SBP with treatment B is lower than with treatment A is $0.67$. But I don't agree with this (at least with what I have understaood). If treatment B is lower than A then that means that $B-A < 0$ and since the prior is symetric and center at 0 then this probability will be exactly $0.5$ and not $0.67$.\n",
    "\n",
    "So I guess he is reasoning about a posterior distribution we cannot compute because we don't have the data he has observed."
   ]
  },
  {
   "cell_type": "code",
   "execution_count": 35,
   "id": "5ed41a8a",
   "metadata": {},
   "outputs": [
    {
     "name": "stdout",
     "output_type": "stream",
     "text": [
      "[1] 0.45185\n"
     ]
    }
   ],
   "source": [
    "## let's compute the probability that the difference lies between 3 mmHg with same strategy as before\n",
    "\n",
    "tot_samples = length(samples)\n",
    "\n",
    "P_x_leq_m3 = sum(samples < -3) / tot_samples\n",
    "P_x_leq_3  = sum(samples < 3) / tot_samples\n",
    "\n",
    "target_prob = P_x_leq_3 - P_x_leq_m3\n",
    "\n",
    "print(target_prob)"
   ]
  }
 ],
 "metadata": {
  "kernelspec": {
   "display_name": "R",
   "language": "R",
   "name": "ir"
  },
  "language_info": {
   "codemirror_mode": "r",
   "file_extension": ".r",
   "mimetype": "text/x-r-source",
   "name": "R",
   "pygments_lexer": "r",
   "version": "4.2.0"
  }
 },
 "nbformat": 4,
 "nbformat_minor": 5
}
