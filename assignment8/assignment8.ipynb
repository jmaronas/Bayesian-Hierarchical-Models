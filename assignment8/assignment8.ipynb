{
 "cells": [
  {
   "cell_type": "raw",
   "id": "8760921d",
   "metadata": {},
   "source": [
    "---\n",
    "title: \"BDA - Assignment 8\"\n",
    "author: Juan Maroñas Molano # The report should be submited anonymously.\n",
    "output: \n",
    "  pdf_document: \n",
    "    toc: yes\n",
    "    toc_depth: 1\n",
    "urlcolor: blue\n",
    "---"
   ]
  },
  {
   "cell_type": "code",
   "execution_count": 52,
   "id": "e800dee9",
   "metadata": {},
   "outputs": [],
   "source": [
    "#install.packages(\"loo\")\n",
    "library(cmdstanr)\n",
    "library(loo)\n",
    "library(matrixStats)\n",
    "library(aaltobda)\n",
    "data(\"factory\")"
   ]
  },
  {
   "cell_type": "markdown",
   "id": "59ee7264",
   "metadata": {},
   "source": []
  },
  {
   "cell_type": "code",
   "execution_count": 6,
   "id": "b475fe1a",
   "metadata": {},
   "outputs": [
    {
     "data": {
      "text/html": [
       "'/home/jmaronasm/.cmdstan/cmdstan-2.30.1'"
      ],
      "text/latex": [
       "'/home/jmaronasm/.cmdstan/cmdstan-2.30.1'"
      ],
      "text/markdown": [
       "'/home/jmaronasm/.cmdstan/cmdstan-2.30.1'"
      ],
      "text/plain": [
       "[1] \"/home/jmaronasm/.cmdstan/cmdstan-2.30.1\""
      ]
     },
     "metadata": {},
     "output_type": "display_data"
    },
    {
     "data": {
      "text/html": [
       "'2.30.1'"
      ],
      "text/latex": [
       "'2.30.1'"
      ],
      "text/markdown": [
       "'2.30.1'"
      ],
      "text/plain": [
       "[1] \"2.30.1\""
      ]
     },
     "metadata": {},
     "output_type": "display_data"
    }
   ],
   "source": [
    "cmdstan_path()\n",
    "cmdstan_version()"
   ]
  },
  {
   "cell_type": "markdown",
   "id": "374cc6b1",
   "metadata": {},
   "source": [
    "## Unpooled model"
   ]
  },
  {
   "cell_type": "markdown",
   "id": "7c33f867",
   "metadata": {},
   "source": [
    "### 1."
   ]
  },
  {
   "cell_type": "code",
   "execution_count": 27,
   "id": "192980ab",
   "metadata": {},
   "outputs": [
    {
     "name": "stdout",
     "output_type": "stream",
     "text": [
      "//  Author: * Juan Maroñas *\n",
      "//  This file implements the unpooled model in assignment 8, which also estimates log predictive density in order to estimate loo.\n",
      "\n",
      "data {\n",
      "\n",
      "  int<lower=0> N;\n",
      "  int<lower=0> J;\n",
      "  matrix[N,J]  y; // cannot be array of vectors otherwise when normalizing cannot use - since is not defined between arrays and scalars.\n",
      "}\n",
      "\n",
      "transformed data {\n",
      "  // normalize the data so that standard prior is correctly specified.\n",
      "  matrix[N,J] y_std;\n",
      "\n",
      "  for (j in 1:J){\n",
      "    y_std[,j]  = (y[,j] - mean(y[,j]))  / sd(y[,j]);\n",
      "  }\n",
      "}\n",
      "\n",
      "parameters {\n",
      "\n",
      "  vector[J] mu;\n",
      "  vector<lower=0>[J] sigma;\n",
      "}\n",
      "\n",
      "model {\n",
      "\n",
      "  // priors\n",
      "  for (j in 1:J){\n",
      "    mu[j] ~ normal(0, 10);\n",
      "    sigma[j] ~ gamma(1,1);\n",
      "  }\n",
      "\n",
      "  // likelihood\n",
      "  for (j in 1:J)\n",
      "    y_std[,j] ~ normal(mu[j], sigma[j]);\n",
      "}\n",
      "\n",
      "generated quantities {\n",
      "\n",
      "  // Compute log predictive density \\log p(y*|0s) per each datapoint and per each sample\n",
      "  vector[N*J] log_lik;\n",
      "  for (j in 1:J){\n",
      "      for (n in 1:N){\n",
      "        log_lik[ n + j*N - N ] = normal_lpdf( y_std[n,j] | mu[j], sigma[j] );\n",
      "      }\n",
      "  }\n",
      "\n",
      "}\n"
     ]
    }
   ],
   "source": [
    "## Set path to model\n",
    "file  <- file.path(\"stan_files\", \"factory\", \"unpooled_d.stan\")\n",
    "model <- cmdstan_model(file)\n",
    "\n",
    "model$print()"
   ]
  },
  {
   "cell_type": "code",
   "execution_count": 28,
   "id": "9b265090",
   "metadata": {},
   "outputs": [
    {
     "name": "stdout",
     "output_type": "stream",
     "text": [
      "Running MCMC with 4 parallel chains...\n",
      "\n",
      "Chain 1 Iteration:    1 / 2000 [  0%]  (Warmup) \n",
      "Chain 1 Iteration:  500 / 2000 [ 25%]  (Warmup) \n",
      "Chain 1 Iteration: 1000 / 2000 [ 50%]  (Warmup) \n",
      "Chain 1 Iteration: 1001 / 2000 [ 50%]  (Sampling) \n",
      "Chain 1 Iteration: 1500 / 2000 [ 75%]  (Sampling) \n",
      "Chain 1 Iteration: 2000 / 2000 [100%]  (Sampling) \n",
      "Chain 2 Iteration:    1 / 2000 [  0%]  (Warmup) \n",
      "Chain 2 Iteration:  500 / 2000 [ 25%]  (Warmup) \n",
      "Chain 2 Iteration: 1000 / 2000 [ 50%]  (Warmup) \n",
      "Chain 2 Iteration: 1001 / 2000 [ 50%]  (Sampling) \n",
      "Chain 2 Iteration: 1500 / 2000 [ 75%]  (Sampling) \n",
      "Chain 2 Iteration: 2000 / 2000 [100%]  (Sampling) \n",
      "Chain 3 Iteration:    1 / 2000 [  0%]  (Warmup) \n",
      "Chain 3 Iteration:  500 / 2000 [ 25%]  (Warmup) \n",
      "Chain 3 Iteration: 1000 / 2000 [ 50%]  (Warmup) \n",
      "Chain 3 Iteration: 1001 / 2000 [ 50%]  (Sampling) \n",
      "Chain 3 Iteration: 1500 / 2000 [ 75%]  (Sampling) \n",
      "Chain 3 Iteration: 2000 / 2000 [100%]  (Sampling) \n",
      "Chain 4 Iteration:    1 / 2000 [  0%]  (Warmup) \n",
      "Chain 4 Iteration:  500 / 2000 [ 25%]  (Warmup) \n",
      "Chain 4 Iteration: 1000 / 2000 [ 50%]  (Warmup) \n",
      "Chain 4 Iteration: 1001 / 2000 [ 50%]  (Sampling) \n",
      "Chain 4 Iteration: 1500 / 2000 [ 75%]  (Sampling) \n",
      "Chain 4 Iteration: 2000 / 2000 [100%]  (Sampling) \n",
      "Chain 1 finished in 0.1 seconds.\n",
      "Chain 2 finished in 0.1 seconds.\n",
      "Chain 3 finished in 0.1 seconds.\n",
      "Chain 4 finished in 0.1 seconds.\n",
      "\n",
      "All 4 chains finished successfully.\n",
      "Mean chain execution time: 0.1 seconds.\n",
      "Total execution time: 0.2 seconds.\n",
      "\n"
     ]
    }
   ],
   "source": [
    "## MCMC sampling\n",
    "\n",
    "# Data specified in the data module\n",
    "data_list <- list(\n",
    "                    y = factory,\n",
    "                    N = nrow(factory),\n",
    "                    J = ncol(factory)\n",
    "                  )\n",
    "\n",
    "fit <- model$sample(\n",
    "                      data            = data_list, \n",
    "                      seed            = 123, \n",
    "                      chains          = 4, \n",
    "                      parallel_chains = 4,\n",
    "                      refresh         = 500,  # print update every 500 iters\n",
    "                      step_size       = 0.1   # set initial step size otherwise getting scale parameter being 0 and\n",
    "                                              # this is not possible since it is contrained. So there is a huge step\n",
    "                                              # size during warm up that makes dynamics go into this region.\n",
    "                    )"
   ]
  },
  {
   "cell_type": "markdown",
   "id": "61c20fe3",
   "metadata": {},
   "source": [
    "### 2."
   ]
  },
  {
   "cell_type": "code",
   "execution_count": 42,
   "id": "427812d1",
   "metadata": {},
   "outputs": [
    {
     "name": "stderr",
     "output_type": "stream",
     "text": [
      "Warning message:\n",
      "“Dropping 'draws_df' class as required metadata was removed.”\n"
     ]
    }
   ],
   "source": [
    "## extract the log likelihood matrix \n",
    "posterior_draws <- fit$draws(\"log_lik\", format = 'df')[,0:30]\n",
    "posterior_draws <- data.matrix(posterior_draws)"
   ]
  },
  {
   "cell_type": "code",
   "execution_count": 51,
   "id": "47dca47a",
   "metadata": {},
   "outputs": [
    {
     "name": "stderr",
     "output_type": "stream",
     "text": [
      "Warning message:\n",
      "“Relative effective sample sizes ('r_eff' argument) not specified.\n",
      "For models fit with MCMC, the reported PSIS effective sample sizes and \n",
      "MCSE estimates will be over-optimistic.”\n",
      "Warning message:\n",
      "“Some Pareto k diagnostic values are too high. See help('pareto-k-diagnostic') for details.\n",
      "”\n"
     ]
    },
    {
     "data": {
      "text/plain": [
       "\n",
       "Computed from 4000 by 30 log-likelihood matrix\n",
       "\n",
       "         Estimate  SE\n",
       "elpd_loo    -51.7 3.6\n",
       "p_loo         9.5 1.8\n",
       "looic       103.4 7.2\n",
       "------\n",
       "Monte Carlo SE of elpd_loo is NA.\n",
       "\n",
       "Pareto k diagnostic values:\n",
       "                         Count Pct.    Min. n_eff\n",
       "(-Inf, 0.5]   (good)     22    73.3%   2319      \n",
       " (0.5, 0.7]   (ok)        5    16.7%   435       \n",
       "   (0.7, 1]   (bad)       3    10.0%   45        \n",
       "   (1, Inf)   (very bad)  0     0.0%   <NA>      \n",
       "See help('pareto-k-diagnostic') for details."
      ]
     },
     "metadata": {},
     "output_type": "display_data"
    }
   ],
   "source": [
    "loo_output <- loo(posterior_draws)\n",
    "loo_output"
   ]
  },
  {
   "cell_type": "code",
   "execution_count": 50,
   "id": "a249a764",
   "metadata": {},
   "outputs": [
    {
     "data": {
      "image/png": "[encoded data removed]",
      "text/plain": [
       "Plot with title “PSIS diagnostic plot”"
      ]
     },
     "metadata": {
      "image/png": {
       "height": 420,
       "width": 420
      }
     },
     "output_type": "display_data"
    }
   ],
   "source": [
    "plot(loo_output)"
   ]
  },
  {
   "cell_type": "markdown",
   "id": "c8cde931",
   "metadata": {},
   "source": [
    "### 3.\n",
    "\n",
    "The effective number of parameters is computed as:\n",
    "\n",
    "$$\n",
    "\\text{lppd} − \\text{lppd}_{\\text{loo−cv}} \n",
    "$$"
   ]
  },
  {
   "cell_type": "code",
   "execution_count": 73,
   "id": "dbd09a3e",
   "metadata": {},
   "outputs": [],
   "source": [
    "lppd <- colLogSumExps(posterior_draws)\n",
    "lppd <- sum(lppd) - 30 * log(4000)"
   ]
  },
  {
   "cell_type": "code",
   "execution_count": 74,
   "id": "26ce60d7",
   "metadata": {},
   "outputs": [
    {
     "name": "stderr",
     "output_type": "stream",
     "text": [
      "Warning message:\n",
      "“Accessing elpd_loo using '$' is deprecated and will be removed in a future release. Please extract the elpd_loo estimate from the 'estimates' component instead.”\n"
     ]
    }
   ],
   "source": [
    "lppd_loocv <- loo_output$elpd_loo"
   ]
  },
  {
   "cell_type": "code",
   "execution_count": 76,
   "id": "3139733a",
   "metadata": {},
   "outputs": [
    {
     "data": {
      "text/html": [
       "9.45011795573529"
      ],
      "text/latex": [
       "9.45011795573529"
      ],
      "text/markdown": [
       "9.45011795573529"
      ],
      "text/plain": [
       "[1] 9.450118"
      ]
     },
     "metadata": {},
     "output_type": "display_data"
    }
   ],
   "source": [
    "peff = lppd - lppd_loocv\n",
    "peff"
   ]
  },
  {
   "cell_type": "markdown",
   "id": "d16e7a53",
   "metadata": {},
   "source": [
    "### 4.\n",
    "\n",
    "From $30$ samples, $22$ have a value of $k < 0.5$, $5$ have a value between $0.5$ and $0.7$, and $3$ have a value between $0.7$ and $1$.\n",
    "\n",
    "In this particular case we have $3$ cases with a value of $k$ greater than $0.7$, which attending to the paper implies that the importance sampler estimator is unreliable since it might have high bias and high variance, and we should draw many more samples from the full posterior. So in this particular cases it might be better to run MCMC again or to try and draw more samples from the posterior and check the value of $k$."
   ]
  },
  {
   "cell_type": "markdown",
   "id": "a5b06d9a",
   "metadata": {},
   "source": [
    "## Pooled model\n",
    "\n",
    "### 1."
   ]
  },
  {
   "cell_type": "code",
   "execution_count": 77,
   "id": "7dcdb00e",
   "metadata": {},
   "outputs": [
    {
     "name": "stdout",
     "output_type": "stream",
     "text": [
      "//  Author: * Juan Maroñas *\n",
      "//  This file implements the pooled model in assignment 7 exercise 2 part d. We change the prior over hyperparameters\n",
      "\n",
      "data {\n",
      "\n",
      "  int<lower=0> N;\n",
      "  int<lower=0> J;\n",
      "  matrix[N,J]  y; // cannot be array of vectors otherwise when normalizing cannot use - since is not defined between arrays and scalars.\n",
      "\n",
      "}\n",
      "\n",
      "transformed data {\n",
      "\n",
      "  vector[N*J] y_resh; // to reshape the matrix into a vector\n",
      "  y_resh = to_vector(y);\n",
      "\n",
      "  // normalize the data so that standard prior is correctly specified.\n",
      "  vector [N*J] y_std;\n",
      "\n",
      "  y_std = (y_resh - mean(y_resh)) / sd(y_resh);\n",
      "\n",
      "}\n",
      "\n",
      "parameters {\n",
      "\n",
      "  real mu;\n",
      "  real<lower=0> sigma;\n",
      "\n",
      "}\n",
      "\n",
      "model {\n",
      "\n",
      "  // priors\n",
      "  mu ~ normal(0,10);\n",
      "  sigma ~ gamma(1,1);\n",
      "\n",
      "  // likelihood\n",
      "  y_std ~ normal( mu , sigma );\n",
      "\n",
      "}\n",
      "\n",
      "generated quantities {\n",
      "\n",
      "  // Compute log predictive density \\log p(y*|0s) per each datapoint and per each sample\n",
      "  vector[N*J] log_lik;\n",
      "  for ( i in 1:N*J ){\n",
      "        log_lik[ i ] = normal_lpdf( y_std[i] | mu, sigma );\n",
      "  }\n",
      "\n",
      "\n",
      "}\n"
     ]
    }
   ],
   "source": [
    "## Set path to model\n",
    "file  <- file.path(\"stan_files\", \"factory\", \"pooled_d.stan\")\n",
    "model <- cmdstan_model(file)\n",
    "\n",
    "model$print()"
   ]
  },
  {
   "cell_type": "code",
   "execution_count": 78,
   "id": "f9461ccb",
   "metadata": {},
   "outputs": [
    {
     "name": "stdout",
     "output_type": "stream",
     "text": [
      "Running MCMC with 4 parallel chains...\n",
      "\n",
      "Chain 1 Iteration:    1 / 2000 [  0%]  (Warmup) \n",
      "Chain 1 Iteration:  500 / 2000 [ 25%]  (Warmup) \n",
      "Chain 1 Iteration: 1000 / 2000 [ 50%]  (Warmup) \n",
      "Chain 1 Iteration: 1001 / 2000 [ 50%]  (Sampling) \n",
      "Chain 1 Iteration: 1500 / 2000 [ 75%]  (Sampling) \n",
      "Chain 1 Iteration: 2000 / 2000 [100%]  (Sampling) \n",
      "Chain 2 Iteration:    1 / 2000 [  0%]  (Warmup) \n",
      "Chain 2 Iteration:  500 / 2000 [ 25%]  (Warmup) \n",
      "Chain 2 Iteration: 1000 / 2000 [ 50%]  (Warmup) \n",
      "Chain 2 Iteration: 1001 / 2000 [ 50%]  (Sampling) \n",
      "Chain 2 Iteration: 1500 / 2000 [ 75%]  (Sampling) \n",
      "Chain 2 Iteration: 2000 / 2000 [100%]  (Sampling) \n",
      "Chain 3 Iteration:    1 / 2000 [  0%]  (Warmup) \n",
      "Chain 3 Iteration:  500 / 2000 [ 25%]  (Warmup) \n",
      "Chain 3 Iteration: 1000 / 2000 [ 50%]  (Warmup) \n",
      "Chain 3 Iteration: 1001 / 2000 [ 50%]  (Sampling) \n",
      "Chain 3 Iteration: 1500 / 2000 [ 75%]  (Sampling) \n",
      "Chain 3 Iteration: 2000 / 2000 [100%]  (Sampling) \n",
      "Chain 4 Iteration:    1 / 2000 [  0%]  (Warmup) \n",
      "Chain 4 Iteration:  500 / 2000 [ 25%]  (Warmup) \n",
      "Chain 4 Iteration: 1000 / 2000 [ 50%]  (Warmup) \n",
      "Chain 4 Iteration: 1001 / 2000 [ 50%]  (Sampling) \n",
      "Chain 4 Iteration: 1500 / 2000 [ 75%]  (Sampling) \n",
      "Chain 4 Iteration: 2000 / 2000 [100%]  (Sampling) \n",
      "Chain 1 finished in 0.0 seconds.\n",
      "Chain 2 finished in 0.0 seconds.\n",
      "Chain 3 finished in 0.0 seconds.\n",
      "Chain 4 finished in 0.0 seconds.\n",
      "\n",
      "All 4 chains finished successfully.\n",
      "Mean chain execution time: 0.0 seconds.\n",
      "Total execution time: 0.2 seconds.\n",
      "\n"
     ]
    }
   ],
   "source": [
    "## MCMC sampling\n",
    "\n",
    "# Data specified in the data module\n",
    "data_list <- list(\n",
    "                    y = factory,\n",
    "                    N = nrow(factory),\n",
    "                    J = ncol(factory)\n",
    "                  )\n",
    "\n",
    "fit <- model$sample(\n",
    "                      data            = data_list, \n",
    "                      seed            = 123, \n",
    "                      chains          = 4, \n",
    "                      parallel_chains = 4,\n",
    "                      refresh         = 500,  # print update every 500 iters\n",
    "                      step_size       = 0.1   # set initial step size otherwise getting scale parameter being 0 and\n",
    "                                              # this is not possible since it is contrained. So there is a huge step\n",
    "                                              # size during warm up that makes dynamics go into this region.\n",
    "                    )"
   ]
  },
  {
   "cell_type": "markdown",
   "id": "af66c6c7",
   "metadata": {},
   "source": [
    "### 2."
   ]
  },
  {
   "cell_type": "code",
   "execution_count": 84,
   "id": "3af97e8c",
   "metadata": {},
   "outputs": [
    {
     "name": "stderr",
     "output_type": "stream",
     "text": [
      "Warning message:\n",
      "“Dropping 'draws_df' class as required metadata was removed.”\n"
     ]
    }
   ],
   "source": [
    "## extract the log likelihood matrix \n",
    "posterior_draws <- fit$draws(\"log_lik\", format = 'df')[,0:30]\n",
    "posterior_draws <- data.matrix(posterior_draws)"
   ]
  },
  {
   "cell_type": "code",
   "execution_count": 85,
   "id": "838efef7",
   "metadata": {},
   "outputs": [
    {
     "name": "stderr",
     "output_type": "stream",
     "text": [
      "Warning message:\n",
      "“Relative effective sample sizes ('r_eff' argument) not specified.\n",
      "For models fit with MCMC, the reported PSIS effective sample sizes and \n",
      "MCSE estimates will be over-optimistic.”\n",
      "Warning message:\n",
      "“Some Pareto k diagnostic values are slightly high. See help('pareto-k-diagnostic') for details.\n",
      "”\n"
     ]
    },
    {
     "data": {
      "text/plain": [
       "\n",
       "Computed from 4000 by 30 log-likelihood matrix\n",
       "\n",
       "         Estimate  SE\n",
       "elpd_loo    -44.2 4.4\n",
       "p_loo         2.1 0.8\n",
       "looic        88.5 8.8\n",
       "------\n",
       "Monte Carlo SE of elpd_loo is 0.0.\n",
       "\n",
       "Pareto k diagnostic values:\n",
       "                         Count Pct.    Min. n_eff\n",
       "(-Inf, 0.5]   (good)     29    96.7%   2670      \n",
       " (0.5, 0.7]   (ok)        1     3.3%   948       \n",
       "   (0.7, 1]   (bad)       0     0.0%   <NA>      \n",
       "   (1, Inf)   (very bad)  0     0.0%   <NA>      \n",
       "\n",
       "All Pareto k estimates are ok (k < 0.7).\n",
       "See help('pareto-k-diagnostic') for details."
      ]
     },
     "metadata": {},
     "output_type": "display_data"
    }
   ],
   "source": [
    "loo_output <- loo(posterior_draws)\n",
    "loo_output"
   ]
  },
  {
   "cell_type": "code",
   "execution_count": 87,
   "id": "cd63fd8d",
   "metadata": {},
   "outputs": [
    {
     "data": {
      "image/png": "[encoded data removed]",
      "text/plain": [
       "Plot with title “PSIS diagnostic plot”"
      ]
     },
     "metadata": {
      "image/png": {
       "height": 420,
       "width": 420
      }
     },
     "output_type": "display_data"
    }
   ],
   "source": [
    "plot(loo_output)"
   ]
  },
  {
   "cell_type": "markdown",
   "id": "be7f0d86",
   "metadata": {},
   "source": [
    "### 3.\n",
    "\n",
    "The effective number of parameters is computed as:\n",
    "\n",
    "$$\n",
    "\\text{lppd} − \\text{lppd}_{\\text{loo−cv}} \n",
    "$$"
   ]
  },
  {
   "cell_type": "code",
   "execution_count": 88,
   "id": "80c22b7a",
   "metadata": {},
   "outputs": [],
   "source": [
    "lppd <- colLogSumExps(posterior_draws)\n",
    "lppd <- sum(lppd) - 30 * log(4000)"
   ]
  },
  {
   "cell_type": "code",
   "execution_count": 89,
   "id": "c556830a",
   "metadata": {},
   "outputs": [
    {
     "name": "stderr",
     "output_type": "stream",
     "text": [
      "Warning message:\n",
      "“Accessing elpd_loo using '$' is deprecated and will be removed in a future release. Please extract the elpd_loo estimate from the 'estimates' component instead.”\n"
     ]
    }
   ],
   "source": [
    "lppd_loocv <- loo_output$elpd_loo"
   ]
  },
  {
   "cell_type": "code",
   "execution_count": 90,
   "id": "43f99cc7",
   "metadata": {},
   "outputs": [
    {
     "data": {
      "text/html": [
       "2.08259055644027"
      ],
      "text/latex": [
       "2.08259055644027"
      ],
      "text/markdown": [
       "2.08259055644027"
      ],
      "text/plain": [
       "[1] 2.082591"
      ]
     },
     "metadata": {},
     "output_type": "display_data"
    }
   ],
   "source": [
    "peff = lppd - lppd_loocv\n",
    "peff"
   ]
  },
  {
   "cell_type": "markdown",
   "id": "de41a63d",
   "metadata": {},
   "source": [
    "### 4.\n",
    "\n",
    "In this particular case all the values of $k$ are below $0.7$ which means that the importance sampling estimates are reliable."
   ]
  },
  {
   "cell_type": "markdown",
   "id": "e879c072",
   "metadata": {},
   "source": [
    "## Hierarchical\n",
    "\n",
    "### 1."
   ]
  },
  {
   "cell_type": "code",
   "execution_count": 91,
   "id": "0bc7137e",
   "metadata": {},
   "outputs": [
    {
     "name": "stdout",
     "output_type": "stream",
     "text": [
      "//  Author: * Juan Maroñas *\n",
      "//  This file implements the hierarchical model in assignment 7 exercise 2 with a more non-informative hyperprior.\n",
      "\n",
      "data {\n",
      "\n",
      "  int<lower=0> N;\n",
      "  int<lower=0> J;\n",
      "  matrix[N,J]  y; // cannot be array of vectors otherwise when normalizing cannot use - since is not defined between arrays and scalars.\n",
      "}\n",
      "\n",
      "transformed data {\n",
      "  // normalize the data so that standard prior is correctly specified.\n",
      "  matrix[N,J] y_std;\n",
      "\n",
      "  for (j in 1:J){\n",
      "    y_std[,j]  = (y[,j] - mean(y[,j]))  / sd(y[,j]);\n",
      "  }\n",
      "}\n",
      "\n",
      "parameters {\n",
      "\n",
      "  // likelihood parameters\n",
      "  vector[J] mu;\n",
      "  real<lower=0> sigma;\n",
      "\n",
      "  // prior parameters\n",
      "  real mu_0;\n",
      "  real<lower=0> sigma_0;\n",
      "  real<lower=0> tau;\n",
      "}\n",
      "\n",
      "model {\n",
      "\n",
      "  // hyperpriors distributions\n",
      "  sigma_0 ~ gamma(1,1);\n",
      "  tau     ~ gamma(1,1);\n",
      "  mu_0    ~ normal(0,10);\n",
      "\n",
      "  // priors\n",
      "  sigma ~ inv_chi_square( tau );\n",
      "  for (j in 1:J){\n",
      "    mu[j] ~ normal(mu_0, sigma_0);\n",
      "  }\n",
      "\n",
      "  // likelihood\n",
      "  for (j in 1:J)\n",
      "    y_std[,j] ~ normal(mu[j], sigma);\n",
      "}\n",
      "\n",
      "generated quantities {\n",
      "\n",
      "  // Compute log predictive density \\log p(y*|0s) per each datapoint and per each sample\n",
      "  vector[N*J] log_lik;\n",
      "  for (j in 1:J){\n",
      "      for (n in 1:N){\n",
      "        log_lik[ n + j*N - N ] = normal_lpdf( y_std[n,j] | mu[j], sigma );\n",
      "      }\n",
      "  }\n",
      "\n",
      "}\n"
     ]
    }
   ],
   "source": [
    "## Set path to model\n",
    "file  <- file.path(\"stan_files\", \"factory\", \"hierarchical_d.stan\")\n",
    "model <- cmdstan_model(file)\n",
    "\n",
    "model$print()"
   ]
  },
  {
   "cell_type": "code",
   "execution_count": 92,
   "id": "21cc963f",
   "metadata": {},
   "outputs": [
    {
     "name": "stdout",
     "output_type": "stream",
     "text": [
      "Running MCMC with 4 parallel chains...\n",
      "\n",
      "Chain 1 Iteration:    1 / 2000 [  0%]  (Warmup) \n",
      "Chain 1 Iteration:  500 / 2000 [ 25%]  (Warmup) \n",
      "Chain 2 Iteration:    1 / 2000 [  0%]  (Warmup) \n",
      "Chain 2 Iteration:  500 / 2000 [ 25%]  (Warmup) \n",
      "Chain 2 Iteration: 1000 / 2000 [ 50%]  (Warmup) \n",
      "Chain 2 Iteration: 1001 / 2000 [ 50%]  (Sampling) \n",
      "Chain 3 Iteration:    1 / 2000 [  0%]  (Warmup) \n",
      "Chain 3 Iteration:  500 / 2000 [ 25%]  (Warmup) \n"
     ]
    },
    {
     "name": "stderr",
     "output_type": "stream",
     "text": [
      "Chain 3 Informational Message: The current Metropolis proposal is about to be rejected because of the following issue:\n",
      "\n",
      "Chain 3 Exception: gamma_lpdf: Random variable is inf, but must be positive finite! (in '/tmp/RtmpwLtTvd/model-2202e72479fa7c.stan', line 35, column 2 to column 23)\n",
      "\n",
      "Chain 3 If this warning occurs sporadically, such as for highly constrained variable types like covariance matrices, then the sampler is fine,\n",
      "\n",
      "Chain 3 but if this warning occurs often then your model may be either severely ill-conditioned or misspecified.\n",
      "\n",
      "Chain 3 \n",
      "\n"
     ]
    },
    {
     "name": "stdout",
     "output_type": "stream",
     "text": [
      "Chain 4 Iteration:    1 / 2000 [  0%]  (Warmup) \n",
      "Chain 4 Iteration:  500 / 2000 [ 25%]  (Warmup) \n"
     ]
    },
    {
     "name": "stderr",
     "output_type": "stream",
     "text": [
      "Chain 4 Informational Message: The current Metropolis proposal is about to be rejected because of the following issue:\n",
      "\n",
      "Chain 4 Exception: gamma_lpdf: Random variable is inf, but must be positive finite! (in '/tmp/RtmpwLtTvd/model-2202e72479fa7c.stan', line 35, column 2 to column 23)\n",
      "\n",
      "Chain 4 If this warning occurs sporadically, such as for highly constrained variable types like covariance matrices, then the sampler is fine,\n",
      "\n",
      "Chain 4 but if this warning occurs often then your model may be either severely ill-conditioned or misspecified.\n",
      "\n",
      "Chain 4 \n",
      "\n"
     ]
    },
    {
     "name": "stdout",
     "output_type": "stream",
     "text": [
      "Chain 1 Iteration: 1000 / 2000 [ 50%]  (Warmup) \n",
      "Chain 1 Iteration: 1001 / 2000 [ 50%]  (Sampling) \n",
      "Chain 1 Iteration: 1500 / 2000 [ 75%]  (Sampling) \n",
      "Chain 2 Iteration: 1500 / 2000 [ 75%]  (Sampling) \n",
      "Chain 3 Iteration: 1000 / 2000 [ 50%]  (Warmup) \n",
      "Chain 3 Iteration: 1001 / 2000 [ 50%]  (Sampling) \n",
      "Chain 4 Iteration: 1000 / 2000 [ 50%]  (Warmup) \n",
      "Chain 4 Iteration: 1001 / 2000 [ 50%]  (Sampling) \n",
      "Chain 4 Iteration: 1500 / 2000 [ 75%]  (Sampling) \n",
      "Chain 1 Iteration: 2000 / 2000 [100%]  (Sampling) \n",
      "Chain 2 Iteration: 2000 / 2000 [100%]  (Sampling) \n",
      "Chain 3 Iteration: 1500 / 2000 [ 75%]  (Sampling) \n",
      "Chain 3 Iteration: 2000 / 2000 [100%]  (Sampling) \n",
      "Chain 4 Iteration: 2000 / 2000 [100%]  (Sampling) \n",
      "Chain 1 finished in 0.3 seconds.\n",
      "Chain 2 finished in 0.4 seconds.\n",
      "Chain 3 finished in 0.4 seconds.\n",
      "Chain 4 finished in 0.3 seconds.\n",
      "\n",
      "All 4 chains finished successfully.\n",
      "Mean chain execution time: 0.3 seconds.\n",
      "Total execution time: 0.4 seconds.\n",
      "\n"
     ]
    },
    {
     "name": "stderr",
     "output_type": "stream",
     "text": [
      "Warning: 109 of 4000 (3.0%) transitions ended with a divergence.\n",
      "See https://mc-stan.org/misc/warnings for details.\n",
      "\n",
      "\n"
     ]
    }
   ],
   "source": [
    "## MCMC sampling\n",
    "\n",
    "# Data specified in the data module\n",
    "data_list <- list(\n",
    "                    y = factory,\n",
    "                    N = nrow(factory),\n",
    "                    J = ncol(factory)\n",
    "                  )\n",
    "\n",
    "fit <- model$sample(\n",
    "                      data            = data_list, \n",
    "                      seed            = 123, \n",
    "                      chains          = 4, \n",
    "                      parallel_chains = 4,\n",
    "                      refresh         = 500,   # print update every 500 iters\n",
    "                      # step_size       = 0.1  # Remove this since it implies 32 divergences. The default \n",
    "                                               # value is better\n",
    "                      adapt_delta     = 0.95   ## This value is recommended here http://avehtari.github.io/BDA_R_demos/demos_rstan/cmdstanr_demo.html#8_comparison_of_k_groups_with_hierarchical_models\n",
    "                                               #  when there is a small number of divergent transitions\n",
    "                    )"
   ]
  },
  {
   "cell_type": "markdown",
   "id": "aaa85a68",
   "metadata": {},
   "source": [
    "### 2."
   ]
  },
  {
   "cell_type": "code",
   "execution_count": 93,
   "id": "209bff1f",
   "metadata": {},
   "outputs": [
    {
     "name": "stderr",
     "output_type": "stream",
     "text": [
      "Warning message:\n",
      "“Dropping 'draws_df' class as required metadata was removed.”\n"
     ]
    }
   ],
   "source": [
    "## extract the log likelihood matrix \n",
    "posterior_draws <- fit$draws(\"log_lik\", format = 'df')[,0:30]\n",
    "posterior_draws <- data.matrix(posterior_draws)"
   ]
  },
  {
   "cell_type": "code",
   "execution_count": 95,
   "id": "9e81d4c5",
   "metadata": {},
   "outputs": [
    {
     "name": "stderr",
     "output_type": "stream",
     "text": [
      "Warning message:\n",
      "“Relative effective sample sizes ('r_eff' argument) not specified.\n",
      "For models fit with MCMC, the reported PSIS effective sample sizes and \n",
      "MCSE estimates will be over-optimistic.”\n"
     ]
    },
    {
     "data": {
      "text/plain": [
       "\n",
       "Computed from 4000 by 30 log-likelihood matrix\n",
       "\n",
       "         Estimate  SE\n",
       "elpd_loo    -42.0 2.9\n",
       "p_loo         2.4 0.4\n",
       "looic        83.9 5.7\n",
       "------\n",
       "Monte Carlo SE of elpd_loo is 0.0.\n",
       "\n",
       "All Pareto k estimates are good (k < 0.5).\n",
       "See help('pareto-k-diagnostic') for details."
      ]
     },
     "metadata": {},
     "output_type": "display_data"
    }
   ],
   "source": [
    "loo_output <- loo(posterior_draws)\n",
    "loo_output"
   ]
  },
  {
   "cell_type": "code",
   "execution_count": 96,
   "id": "5b77f123",
   "metadata": {},
   "outputs": [
    {
     "data": {
      "image/png": "[encoded data removed]",
      "text/plain": [
       "Plot with title “PSIS diagnostic plot”"
      ]
     },
     "metadata": {
      "image/png": {
       "height": 420,
       "width": 420
      }
     },
     "output_type": "display_data"
    }
   ],
   "source": [
    "plot(loo_output)"
   ]
  },
  {
   "cell_type": "markdown",
   "id": "ea4ae394",
   "metadata": {},
   "source": [
    "### 3.\n",
    "\n",
    "The effective number of parameters is computed as:\n",
    "\n",
    "$$\n",
    "\\text{lppd} − \\text{lppd}_{\\text{loo−cv}} \n",
    "$$"
   ]
  },
  {
   "cell_type": "code",
   "execution_count": 97,
   "id": "11756a78",
   "metadata": {},
   "outputs": [],
   "source": [
    "lppd <- colLogSumExps(posterior_draws)\n",
    "lppd <- sum(lppd) - 30 * log(4000)"
   ]
  },
  {
   "cell_type": "code",
   "execution_count": 98,
   "id": "388454ea",
   "metadata": {},
   "outputs": [
    {
     "name": "stderr",
     "output_type": "stream",
     "text": [
      "Warning message:\n",
      "“Accessing elpd_loo using '$' is deprecated and will be removed in a future release. Please extract the elpd_loo estimate from the 'estimates' component instead.”\n"
     ]
    }
   ],
   "source": [
    "lppd_loocv <- loo_output$elpd_loo"
   ]
  },
  {
   "cell_type": "code",
   "execution_count": 99,
   "id": "7b0c1b34",
   "metadata": {},
   "outputs": [
    {
     "data": {
      "text/html": [
       "2.35646015416012"
      ],
      "text/latex": [
       "2.35646015416012"
      ],
      "text/markdown": [
       "2.35646015416012"
      ],
      "text/plain": [
       "[1] 2.35646"
      ]
     },
     "metadata": {},
     "output_type": "display_data"
    }
   ],
   "source": [
    "peff = lppd - lppd_loocv\n",
    "peff"
   ]
  },
  {
   "cell_type": "markdown",
   "id": "342b4de5",
   "metadata": {},
   "source": [
    "### 4.\n",
    "\n",
    "In this particular case all the values of $k$ are below $0.5$ which means that the importance sampling estimates are reliable."
   ]
  },
  {
   "cell_type": "markdown",
   "id": "a040414f",
   "metadata": {},
   "source": [
    "### 5.\n",
    "\n",
    "Comparing the Loo values obtained by the PSIS proceedure, we observe that the best model is the hierarchical model with a value of $-42$, followed by the pooled model with a value of $-44.2$, and finally the unpooled model with $-51.7$. The comparison between the hierarchical and pooled model is reliable since we have values of $k$ below $0.7$. In case of the unpooled model the loo value might have been affected by those samples with high importance weights that makes the estimator unreliable. In this case we could either run MCMC directly leaving out each of these samples with high value of $k$, or we could change the observation model, for example using a student-t, which would ensure that each of the samples affect less the estimation of the probability distribution. These particular samples with high value of $k$, which are making the posterior very different from the full posterior (reason for having very big importance weights), are samples very informative about the distribution to be estimated and so changing the observation model to a heavy tailed one can reduce these problems related to the unmatch between the full posterior and the loo posteriors.\n"
   ]
  }
 ],
 "metadata": {
  "kernelspec": {
   "display_name": "R",
   "language": "R",
   "name": "ir"
  },
  "language_info": {
   "codemirror_mode": "r",
   "file_extension": ".r",
   "mimetype": "text/x-r-source",
   "name": "R",
   "pygments_lexer": "r",
   "version": "4.2.0"
  }
 },
 "nbformat": 4,
 "nbformat_minor": 5
}
