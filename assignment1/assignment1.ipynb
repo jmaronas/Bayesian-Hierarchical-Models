{
 "cells": [
  {
   "cell_type": "raw",
   "id": "f17539a9",
   "metadata": {},
   "source": [
    "---\n",
    "title: \"BDA - Assignment 1\"\n",
    "author: \"Juan Maroñas Molano\" # The report should be submited anonymously.\n",
    "output: \n",
    "  pdf_document: \n",
    "    toc: yes\n",
    "    toc_depth: 1\n",
    "urlcolor: blue\n",
    "---"
   ]
  },
  {
   "cell_type": "code",
   "execution_count": 1,
   "id": "e2568559",
   "metadata": {
    "name": "setup",
    "tags": [
     "remove_cell"
    ]
   },
   "outputs": [],
   "source": [
    "# This chunk sets echo = TRUE as default, that is print all code.\n",
    "# knitr::opts_chunk$set can be used to set other notebook generation options, too.\n",
    "# include=FALSE inside curly brackets makes this block not be included in the pdf.\n",
    "knitr::opts_chunk$set(echo = TRUE)"
   ]
  },
  {
   "cell_type": "markdown",
   "id": "b0333226",
   "metadata": {},
   "source": [
    "# Exercise 1)\n",
    "\n",
    "* probability: probability is a branch of mathematics that aims at describing the uncertainty around a set of possible events.\n",
    "\n",
    "* probability mass: amount of uncertainty around an event in a discrete countable set.\n",
    "\n",
    "* probability density: is the probability contained in a volume, when the volume is made arbitrary samall.\n",
    "\n",
    "* probability mass function: a function that assigns probabilities to a countable discrete space.\n",
    "\n",
    "* probability density function: a function that assigns a likelihood to a continuous space such that we can obtain the probability of an event falling between to events of this continuous space but for which the probability of a single event is 0.\n",
    "\n",
    "* probability distribution: a function that describes the probability of an event.\n",
    "\n",
    "* discrete probability distribution: up to my knowledge is the same as probability mass function.\n",
    "\n",
    "* continuous probability distribution: up to my knowledge is the same as probability density function.\n",
    "\n",
    "* cumulative distribution function: a function that gives the total probability that a random variable takes a value below a realization. \n",
    "\n",
    "* likelihood: is the unceratinty around an event given ( \"usually\" used when this uncertainty depends on some [non]-parametric statistical parameters)."
   ]
  },
  {
   "cell_type": "markdown",
   "id": "bc89bb66",
   "metadata": {},
   "source": [
    "# Exercise 2)\n",
    "\n",
    "## a)"
   ]
  },
  {
   "cell_type": "code",
   "execution_count": 2,
   "id": "675f747a",
   "metadata": {},
   "outputs": [],
   "source": [
    "mean = 0.2\n",
    "var  = 0.01\n",
    "\n",
    "alfa = mean * ( mean * ( 1 - mean ) / var - 1 )\n",
    "beta = alfa * ( 1 - mean ) / mean"
   ]
  },
  {
   "cell_type": "code",
   "execution_count": 3,
   "id": "927b3b9e",
   "metadata": {},
   "outputs": [],
   "source": [
    "x        = seq( from = -1, to = 1, by = 0.01 )\n",
    "beta_pdf = dbeta( x , alfa, beta )  \n"
   ]
  },
  {
   "cell_type": "code",
   "execution_count": 4,
   "id": "87dc940e",
   "metadata": {},
   "outputs": [
    {
     "data": {
      "image/png": "[encoded data removed]",
      "text/plain": [
       "plot without title"
      ]
     },
     "metadata": {
      "image/png": {
       "height": 420,
       "width": 420
      }
     },
     "output_type": "display_data"
    }
   ],
   "source": [
    "plot( x, beta_pdf, type = 'l')"
   ]
  },
  {
   "cell_type": "markdown",
   "id": "a903a9e5",
   "metadata": {},
   "source": [
    "## b)"
   ]
  },
  {
   "cell_type": "code",
   "execution_count": 5,
   "id": "010a7748",
   "metadata": {},
   "outputs": [],
   "source": [
    "beta_samples <- rbeta( x, alfa, beta )"
   ]
  },
  {
   "cell_type": "code",
   "execution_count": 6,
   "id": "fe2a07f1",
   "metadata": {},
   "outputs": [
    {
     "data": {
      "image/png": "[encoded data removed]",
      "text/plain": [
       "Plot with title “Histogram of beta_samples”"
      ]
     },
     "metadata": {
      "image/png": {
       "height": 420,
       "width": 420
      }
     },
     "output_type": "display_data"
    }
   ],
   "source": [
    "hist( beta_samples, freq = FALSE )"
   ]
  },
  {
   "cell_type": "markdown",
   "id": "b64b51b4",
   "metadata": {},
   "source": [
    "## c)"
   ]
  },
  {
   "cell_type": "code",
   "execution_count": 7,
   "id": "38f871ac",
   "metadata": {},
   "outputs": [
    {
     "data": {
      "text/html": [
       "'Empirical mean 0.192320667133668'"
      ],
      "text/latex": [
       "'Empirical mean 0.192320667133668'"
      ],
      "text/markdown": [
       "'Empirical mean 0.192320667133668'"
      ],
      "text/plain": [
       "[1] \"Empirical mean 0.192320667133668\""
      ]
     },
     "metadata": {},
     "output_type": "display_data"
    },
    {
     "data": {
      "text/html": [
       "'Empirical variance 0.0098563857410929'"
      ],
      "text/latex": [
       "'Empirical variance 0.0098563857410929'"
      ],
      "text/markdown": [
       "'Empirical variance 0.0098563857410929'"
      ],
      "text/plain": [
       "[1] \"Empirical variance 0.0098563857410929\""
      ]
     },
     "metadata": {},
     "output_type": "display_data"
    },
    {
     "data": {
      "text/html": [
       "'True mean 0.2'"
      ],
      "text/latex": [
       "'True mean 0.2'"
      ],
      "text/markdown": [
       "'True mean 0.2'"
      ],
      "text/plain": [
       "[1] \"True mean 0.2\""
      ]
     },
     "metadata": {},
     "output_type": "display_data"
    },
    {
     "data": {
      "text/html": [
       "'True var 0.01'"
      ],
      "text/latex": [
       "'True var 0.01'"
      ],
      "text/markdown": [
       "'True var 0.01'"
      ],
      "text/plain": [
       "[1] \"True var 0.01\""
      ]
     },
     "metadata": {},
     "output_type": "display_data"
    }
   ],
   "source": [
    "sprintf(\"Empirical mean %s\" , mean(beta_samples))\n",
    "sprintf(\"Empirical variance %s\" , var(beta_samples))\n",
    "\n",
    "sprintf(\"True mean %s\", mean)\n",
    "sprintf(\"True var %s\", var)"
   ]
  },
  {
   "cell_type": "markdown",
   "id": "87866262",
   "metadata": {},
   "source": [
    "## d)"
   ]
  },
  {
   "cell_type": "code",
   "execution_count": 8,
   "id": "c8a3d33e",
   "metadata": {},
   "outputs": [
    {
     "data": {
      "text/html": [
       "<style>\n",
       ".dl-inline {width: auto; margin:0; padding: 0}\n",
       ".dl-inline>dt, .dl-inline>dd {float: none; width: auto; display: inline-block}\n",
       ".dl-inline>dt::after {content: \":\\0020\"; padding-right: .5ex}\n",
       ".dl-inline>dt:not(:first-of-type) {padding-left: .5ex}\n",
       "</style><dl class=dl-inline><dt>2.5%</dt><dd>0.0419941962373245</dd><dt>97.5%</dt><dd>0.423237949264519</dd></dl>\n"
      ],
      "text/latex": [
       "\\begin{description*}\n",
       "\\item[2.5\\textbackslash{}\\%] 0.0419941962373245\n",
       "\\item[97.5\\textbackslash{}\\%] 0.423237949264519\n",
       "\\end{description*}\n"
      ],
      "text/markdown": [
       "2.5%\n",
       ":   0.041994196237324597.5%\n",
       ":   0.423237949264519\n",
       "\n"
      ],
      "text/plain": [
       "     2.5%     97.5% \n",
       "0.0419942 0.4232379 "
      ]
     },
     "metadata": {},
     "output_type": "display_data"
    }
   ],
   "source": [
    "quantiles_95 = quantile( beta_samples, probs = c(0.025, 0.975))\n",
    "quantiles_95"
   ]
  },
  {
   "cell_type": "markdown",
   "id": "ca8ac711",
   "metadata": {},
   "source": [
    "# Exercise 3)"
   ]
  },
  {
   "cell_type": "markdown",
   "id": "fc71a22d",
   "metadata": {},
   "source": [
    "$$\n",
    "\\begin{array}{c}\n",
    " p( \\text{test_assigns_cancer} \\mid \\text{person_has_cancer}) &= 0.98 \\\\\n",
    " p( \\text{test_assigns_NO_cancer} \\mid \\text{person_has_NO_cancer}) &= 0.96 \\\\\n",
    " p( \\text{person_has_cancer} ) &= 0.001.\n",
    "\\end{array}\n",
    "$$\n",
    "\n",
    "We are interested in two probabilities which are:\n",
    "\n",
    "$$\n",
    "\\begin{array}{c}\n",
    " p( \\text{person_has_NO_cancer} \\mid \\text{test_assigns_cancer}) \\\\\n",
    " p( \\text{person_has_cancer} \\mid \\text{test_assigns_NO_cancer}) \n",
    "\\end{array}\n",
    "$$\n",
    "\n",
    "because with the former we will be giving medicine to someone does not need it and in the later the subject will die. Each of these probabilities can be obtained using bayes theorem as follows, which will allow us to identify which probabilities need to be estimated.\n",
    "\n",
    "$$\n",
    "p( \\text{person_has_NO_cancer} \\mid \\text{test_assigns_cancer} ) = \\frac{p(  \\text{test_assigns_cancer} \\mid \\text{person_has_NO_cancer} ) \\times p(\\text{person_has_NO_cancer})}{ p(\\text{test_assigns_cancer}) }\n",
    "$$\n",
    "\n",
    "and\n",
    "\n",
    "$$\n",
    "p( \\text{person_has_cancer} \\mid \\text{test_assigns_NO_cancer}) = \\frac{ p( \\text{test_assigns_NO_cancer} \\mid \\text{person_has_cancer} ) \\times p( \\text{person_has_cancer})}{ p( \\text{test_assigns_NO_cancer} )  }\n",
    "$$"
   ]
  },
  {
   "cell_type": "markdown",
   "id": "13701fe7",
   "metadata": {},
   "source": [
    "Some of the necessary probabilities have already been computed or are easy to compute:\n",
    "\n",
    "$$\n",
    "\\begin{array}{c}\n",
    "p( \\text{test_assigns_NO_cancer} \\mid \\text{person_has_cancer}) &= 0.02 \\\\\n",
    " p( \\text{test_assigns_cancer} \\mid \\text{person_has_NO_cancer}) &= 0.04 \\\\ \n",
    "p( \\text{person_has_NO_cancer} ) &= 0.999\\\\\n",
    "\\end{array}\n",
    "$$"
   ]
  },
  {
   "cell_type": "markdown",
   "id": "8eae7c56",
   "metadata": {},
   "source": [
    "Others can be computed using standard probability rules. In particular marginalization:\n",
    "\n",
    "\n",
    "$$\n",
    "p(\\text{test_assigns_cancer}) = p(\\text{test_assigns_cancer} \\mid  \\text{person_has_NO_cancer} ) \\times p( \\text{person_has_NO_cancer} ) + p(\\text{test_assigns_cancer} \\mid  \\text{person_has_cancer} ) \\times p(\\text{person_has_cancer}) = 0.04 \\times 0.999 + 0.98 \\times 0.001 = 0.04094\n",
    "$$\n",
    "\n",
    "and\n",
    "\n",
    "$$\n",
    "p(\\text{test_assigns_NO_cancer}) = p(\\text{test_assigns_NO_cancer} \\mid  \\text{person_has_NO_cancer} ) \\times p( \\text{person_has_NO_cancer} ) + p(\\text{test_assigns_NO_cancer} \\mid  \\text{person_has_cancer} ) \\times p(\\text{person_has_cancer}) = 0.96 \\times 0.999 + 0.02 \\times 0.001 = 0.95906\n",
    "$$\n",
    "\n",
    "We can check that:\n",
    "\n",
    "$$\n",
    "p(\\text{test_assigns_cancer}) + p(\\text{test_assigns_NO_cancer}) = 0.95906 + 0.04094 = 1.0\n",
    "$$\n",
    "\n",
    "as expected."
   ]
  },
  {
   "cell_type": "markdown",
   "id": "831b0b9d",
   "metadata": {},
   "source": [
    "Substituting we have:\n",
    "\n",
    "$$\n",
    "p( \\text{person_has_NO_cancer} \\mid \\text{test_assigns_cancer} ) = \\frac{ 0.04 \\times 0.999 }{ 0.04094 } = 0.976\n",
    "$$\n",
    "\n",
    "$$\n",
    "p( \\text{person_has_cancer} \\mid \\text{test_assigns_NO_cancer}) = \\frac{ 0.02 \\times 0.001}{ 0.95906 } = 2.085 \\times 10^{-5}\n",
    "$$\n",
    "\n",
    "and finally:\n",
    "\n",
    "$$\n",
    "p( \\text{person_has_cancer} \\mid \\text{test_assigns_cancer} ) = 1 - 0.976 =  0.024\n",
    "$$\n",
    "\n",
    "$$\n",
    "p( \\text{person_has_NO_cancer} \\mid \\text{test_assigns_NO_cancer}) = 1 - 2.085 \\times 10^{-5} = 0.99998\n",
    "$$\n"
   ]
  },
  {
   "cell_type": "markdown",
   "id": "2bf6a1cd",
   "metadata": {},
   "source": [
    "Based on these probabilities I would only use this test detector whenever if assigns NO_cancer, since it looks accurate. However when the test assigns cancer it fails and there would be many bald people in the world and any person with cancer would be probabily dead."
   ]
  },
  {
   "cell_type": "markdown",
   "id": "0a0d081a",
   "metadata": {},
   "source": [
    "# Exercise 4)"
   ]
  },
  {
   "cell_type": "markdown",
   "id": "13ebd7cf",
   "metadata": {},
   "source": [
    "Two state spaces with $\\{R,W\\}$ and $\\{A,B,C\\}$. The marginal and conditional probabilities are given by:\n",
    "\n",
    "$$\n",
    "p(A) = 0.4 \\\\\n",
    "p(B) = 0.1 \\\\\n",
    "p(C) = 0.5\n",
    "$$\n",
    "\n",
    "and\n",
    "\n",
    "$$\n",
    "p(R \\mid A) = \\frac{2}{7} \\\\\n",
    "p(R \\mid B) = \\frac{4}{5} \\\\\n",
    "p(R \\mid C) = \\frac{1}{4}\n",
    "$$"
   ]
  },
  {
   "cell_type": "markdown",
   "id": "ddc99f54",
   "metadata": {},
   "source": [
    "## a)"
   ]
  },
  {
   "cell_type": "markdown",
   "id": "48cf95b8",
   "metadata": {},
   "source": [
    "So \n",
    "\n",
    "$$\n",
    "\\begin{array}{c}\n",
    "p(R) &= P(R \\mid A)\\times p(A) + p(R \\mid B)\\times p(B) + p(R \\mid C)\\times p(C) \\\\\n",
    "     &= 0.3192857142857143 \n",
    "\\end{array}\n",
    "$$"
   ]
  },
  {
   "cell_type": "markdown",
   "id": "277e21d3",
   "metadata": {},
   "source": [
    "## b)"
   ]
  },
  {
   "cell_type": "markdown",
   "id": "795e5db9",
   "metadata": {},
   "source": [
    "We need to compute:\n",
    "\n",
    "$$\n",
    "    p(A \\mid R) = \\frac{p(R\\mid A)\\times p(A)}{p(R)} = 0.358\n",
    "$$\n",
    "\n",
    "$$\n",
    "    p(B \\mid R) = \\frac{p(R\\mid B)\\times p(B)}{p(R)} = 0.25\n",
    "$$\n",
    "\n",
    "$$\n",
    "    p(C \\mid R) = \\frac{p(R\\mid C)\\times p(C)}{p(R)} = 0.39\n",
    "$$\n",
    "\n",
    "So the conclusion is that it most probably come from C."
   ]
  },
  {
   "cell_type": "code",
   "execution_count": 9,
   "id": "de9a23a1",
   "metadata": {},
   "outputs": [
    {
     "data": {
      "text/html": [
       "<table class=\"dataframe\">\n",
       "<caption>A matrix: 3 × 2 of type dbl</caption>\n",
       "<thead>\n",
       "\t<tr><th></th><th scope=col>red</th><th scope=col>white</th></tr>\n",
       "</thead>\n",
       "<tbody>\n",
       "\t<tr><th scope=row>A</th><td>2</td><td>5</td></tr>\n",
       "\t<tr><th scope=row>B</th><td>4</td><td>1</td></tr>\n",
       "\t<tr><th scope=row>C</th><td>1</td><td>3</td></tr>\n",
       "</tbody>\n",
       "</table>\n"
      ],
      "text/latex": [
       "A matrix: 3 × 2 of type dbl\n",
       "\\begin{tabular}{r|ll}\n",
       "  & red & white\\\\\n",
       "\\hline\n",
       "\tA & 2 & 5\\\\\n",
       "\tB & 4 & 1\\\\\n",
       "\tC & 1 & 3\\\\\n",
       "\\end{tabular}\n"
      ],
      "text/markdown": [
       "\n",
       "A matrix: 3 × 2 of type dbl\n",
       "\n",
       "| <!--/--> | red | white |\n",
       "|---|---|---|\n",
       "| A | 2 | 5 |\n",
       "| B | 4 | 1 |\n",
       "| C | 1 | 3 |\n",
       "\n"
      ],
      "text/plain": [
       "  red white\n",
       "A 2   5    \n",
       "B 4   1    \n",
       "C 1   3    "
      ]
     },
     "metadata": {},
     "output_type": "display_data"
    }
   ],
   "source": [
    "boxes <- matrix(\n",
    "                 c(2,4,1,5,1,3)                  , \n",
    "                 ncol     = 2                    ,\n",
    "                 dimnames = list(c(\"A\", \"B\", \"C\"), \n",
    "                 c(\"red\", \"white\"))\n",
    "               )\n",
    "\n",
    "boxes"
   ]
  },
  {
   "cell_type": "code",
   "execution_count": 10,
   "id": "4e09ba81",
   "metadata": {},
   "outputs": [
    {
     "data": {
      "text/html": [
       "0.319285714285714"
      ],
      "text/latex": [
       "0.319285714285714"
      ],
      "text/markdown": [
       "0.319285714285714"
      ],
      "text/plain": [
       "[1] 0.3192857"
      ]
     },
     "metadata": {},
     "output_type": "display_data"
    }
   ],
   "source": [
    "p_red <- function( boxes ){\n",
    "    \n",
    "   boxes[\"A\",'red']  / sum( boxes[\"A\",] ) * 0.4 +\n",
    "   boxes[\"B\",'red']  / sum( boxes[\"B\",] ) * 0.1 + \n",
    "   boxes[\"C\",'red']  / sum( boxes[\"C\",] ) * 0.5 \n",
    "   \n",
    "} \n",
    "\n",
    "p_red(boxes = boxes)"
   ]
  },
  {
   "cell_type": "code",
   "execution_count": 11,
   "id": "4ab23340",
   "metadata": {},
   "outputs": [
    {
     "data": {
      "text/html": [
       "<style>\n",
       ".list-inline {list-style: none; margin:0; padding: 0}\n",
       ".list-inline>li {display: inline-block}\n",
       ".list-inline>li:not(:last-child)::after {content: \"\\00b7\"; padding: 0 .5ex}\n",
       "</style>\n",
       "<ol class=list-inline><li>0.357941834451902</li><li>0.250559284116331</li><li>0.391498881431767</li></ol>\n"
      ],
      "text/latex": [
       "\\begin{enumerate*}\n",
       "\\item 0.357941834451902\n",
       "\\item 0.250559284116331\n",
       "\\item 0.391498881431767\n",
       "\\end{enumerate*}\n"
      ],
      "text/markdown": [
       "1. 0.357941834451902\n",
       "2. 0.250559284116331\n",
       "3. 0.391498881431767\n",
       "\n",
       "\n"
      ],
      "text/plain": [
       "[1] 0.3579418 0.2505593 0.3914989"
      ]
     },
     "metadata": {},
     "output_type": "display_data"
    }
   ],
   "source": [
    "p_box <- function( boxes ){\n",
    "    \n",
    "    p_red = p_red(boxes)\n",
    "    \n",
    "    p_AR = boxes[\"A\",'red']  / sum( boxes[\"A\",] ) * 0.4 / p_red\n",
    "    p_BR = boxes[\"B\",'red']  / sum( boxes[\"B\",] ) * 0.1 / p_red\n",
    "    p_CR = boxes[\"C\",'red']  / sum( boxes[\"C\",] ) * 0.5 / p_red\n",
    "    \n",
    "    c( p_AR, p_BR, p_CR )\n",
    "    \n",
    "}\n",
    "\n",
    "p_box(boxes = boxes)"
   ]
  },
  {
   "cell_type": "markdown",
   "id": "04522d7f",
   "metadata": {},
   "source": [
    "# Exercise 5)"
   ]
  },
  {
   "cell_type": "markdown",
   "id": "23a2634a",
   "metadata": {},
   "source": [
    "From the exercise we know the following marginal probabilities:\n",
    "\n",
    "$$\n",
    "\\begin{array}{c}\n",
    "p(\\text{boy})        &= 0.5 \\\\\n",
    "p(\\text{girl})       &= 0.5 \\\\\n",
    "p(\\text{fraternals}) &= \\frac{1}{150}\\\\\n",
    "p(\\text{identicals}) &= \\frac{1}{400}\n",
    "\\end{array}\n",
    "$$\n",
    "\n",
    "The exercise asks for:\n",
    "\n",
    "$$\n",
    "p(\\text{identical} \\mid \\text{both boys}) = \\frac{p(\\text{both boys} \\mid \\text{identical}) \\times p(\\text{identical})}{p(\\text{both boys})}\n",
    "$$"
   ]
  },
  {
   "cell_type": "markdown",
   "id": "cd94f1b5",
   "metadata": {},
   "source": [
    "Note that if we have an identical twin then the probability of being a boy or a girl is $0.5$, so:\n",
    "\n",
    "$$\n",
    "p(\\text{ both boys} \\mid \\text{identical}) = 0.5\n",
    "$$\n",
    "\n",
    "On the other hand if we are fraternals then we have three states: both boys, both girls, boy and girl. Since events are independent we know:\n",
    "\n",
    "$$\n",
    "\\begin{array}{c}\n",
    "p(\\text{both boys} \\mid \\text{fraternals})     &= 0.25 \\\\\n",
    "p(\\text{boy and girl} \\mid \\text{fraternals} ) &= 0.5  \\\\\n",
    "p(\\text{both girls} \\mid \\text{fraternals} )   &= 0.25 \n",
    "\\end{array}\n",
    "$$\n",
    "\n",
    "Note there is a difference. Because we know they are identical then the chance is only $0.5$, however when they are different we have four possibilities (two of them being equal which are boy and girl). This is why both boys have probability 0.25, except when we know they are identical twins, in which case the boy and girl case dissapear and that probability mass is divided between both boys and both girls."
   ]
  },
  {
   "cell_type": "markdown",
   "id": "c1297399",
   "metadata": {},
   "source": [
    "This gives:\n",
    "\n",
    "$$\n",
    "p(\\text{identical} \\mid \\text{both boys}) = \\frac{p(\\text{both boys} \\mid \\text{identical}) \\times p(\\text{identical})}{p(\\text{both boys})} = \\frac{0.5 \\times \\frac{1}{400}}{ 0.25 \\times \\frac{1}{150} + 0.5 \\times \\frac{1}{400}}  = 0.4286\n",
    "$$"
   ]
  },
  {
   "cell_type": "code",
   "execution_count": 27,
   "id": "b400c45f",
   "metadata": {},
   "outputs": [
    {
     "data": {
      "text/html": [
       "0.428571428571429"
      ],
      "text/latex": [
       "0.428571428571429"
      ],
      "text/markdown": [
       "0.428571428571429"
      ],
      "text/plain": [
       "[1] 0.4285714"
      ]
     },
     "metadata": {},
     "output_type": "display_data"
    }
   ],
   "source": [
    "p_identical_twin <- function( fraternal_prob, identical_prob ){\n",
    "    0.5 * identical_prob / ( 0.5 * identical_prob + 0.25 * fraternal_prob )\n",
    "}\n",
    "    \n",
    "p_identical_twin( fraternal_prob = 1/150, identical_prob = 1/400 )    "
   ]
  },
  {
   "cell_type": "markdown",
   "id": "21bc2a62",
   "metadata": {},
   "source": [
    "## Mark Assignment\n",
    "\n",
    "I am a conding rockstar!"
   ]
  },
  {
   "cell_type": "code",
   "execution_count": 28,
   "id": "e729229b",
   "metadata": {},
   "outputs": [
    {
     "name": "stderr",
     "output_type": "stream",
     "text": [
      "Assignment set:\n",
      "assignment1: Bayesian Data Analysis: Assignment 1\n",
      "The assignment contain the following (3) tasks:\n",
      "- p_red\n",
      "- p_box\n",
      "- p_identical_twin\n",
      "\n",
      "\n"
     ]
    },
    {
     "name": "stdout",
     "output_type": "stream",
     "text": [
      "\u001b[32m✔\u001b[39m | \u001b[33mF\u001b[39m \u001b[35mW\u001b[39m \u001b[34mS\u001b[39m \u001b[32m OK\u001b[39m | Context\n",
      "\r",
      "⠏ |         0 | task-1-subtask-1-tests                                                                                                                                                 \r",
      "⠏ |         0 | p_red()                                                                                                                                                                \r",
      "\u001b[32m✔\u001b[39m |         4 | p_red()\n",
      "\r",
      "⠏ |         0 | task-2-subtask-1-tests                                                                                                                                                 \r",
      "⠏ |         0 | p_box()                                                                                                                                                                \r",
      "\u001b[32m✔\u001b[39m |         4 | p_box()\n",
      "\r",
      "⠏ |         0 | task-3-subtask-1-tests                                                                                                                                                 \r",
      "⠏ |         0 | p_identical_twin()                                                                                                                                                     \r",
      "\u001b[32m✔\u001b[39m |         5 | p_identical_twin()\n",
      "\n",
      "══ \u001b[1mResults\u001b[22m ════════════════════════════════════════════════════════════════════════════════════════════════════════════════════════════════════════════════════════════════════════════\n",
      "[ FAIL 0 | WARN 0 | SKIP 0 | \u001b[32mPASS\u001b[39m 13 ]\n",
      "You're a coding rockstar!"
     ]
    }
   ],
   "source": [
    "library(markmyassignment)\n",
    "assignment_path <-\n",
    "paste(\"https://github.com/avehtari/BDA_course_Aalto/\",\n",
    "\"blob/master/assignments/tests/assignment1.yml\", sep=\"\")\n",
    "set_assignment(assignment_path)\n",
    "# To check your code/functions, just run\n",
    "mark_my_assignment()"
   ]
  }
 ],
 "metadata": {
  "jupytext": {
   "cell_metadata_filter": "fig.height,fig.width,name,eval,fig.cap,tags,tbl.cap,-all",
   "main_language": "R",
   "notebook_metadata_filter": "-all"
  },
  "kernelspec": {
   "display_name": "R",
   "language": "R",
   "name": "ir"
  },
  "language_info": {
   "codemirror_mode": "r",
   "file_extension": ".r",
   "mimetype": "text/x-r-source",
   "name": "R",
   "pygments_lexer": "r",
   "version": "4.2.0"
  }
 },
 "nbformat": 4,
 "nbformat_minor": 5
}
